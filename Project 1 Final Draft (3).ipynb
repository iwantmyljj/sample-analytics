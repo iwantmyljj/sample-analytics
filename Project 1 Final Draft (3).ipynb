{
 "cells": [
  {
   "cell_type": "markdown",
   "id": "9ab1dca9-e062-4fac-9987-0abb87c7c5dc",
   "metadata": {},
   "source": [
    "# Sentiment Analysis based on Amazon Product Reviews\n",
    "\n",
    "The purpose of this analysis is to predict the sentiment, whether positive or negative, of just any given reviews. This is a binary classification analysis, so I will focus on the positive or negative sentiment of any product review. \n",
    "\n",
    "This analysis is based on Amazon Fine Food Reviews that span a period of more than 10 years, including all about 500,000 reviews up to October 2012.\n",
    "\n",
    "To pre process natural language data, I will import the entire dataset, split train and test data, carry out major data cleaning process including word tokenizing, stopwords and punctuation removal, stemming, vetorizing, etc,.\n",
    "\n",
    "With all data pro-processed and ready, I then load it into predictive algorithms, and check the ROC/AUC graph to see how robust is the model.\n",
    "\n",
    "From then on, I'll see if this sentiment analysis is applicable on whether to improve the video comments.\n",
    "\n",
    "At the end, I put everything down to one single function that takes any given string and return sentiment prediction. Welcome to try it out!"
   ]
  },
  {
   "cell_type": "markdown",
   "id": "b5f436f4-85b4-4bc7-8434-b5bec8d74df0",
   "metadata": {},
   "source": [
    "## 1. Prepare the Data"
   ]
  },
  {
   "cell_type": "markdown",
   "id": "85cfcfe7-f9e5-4e3a-8da5-beb5a00cdb03",
   "metadata": {},
   "source": [
    "### a) Load data"
   ]
  },
  {
   "cell_type": "code",
   "execution_count": 1,
   "id": "7b63860f-503f-4e24-a3f0-badf31f82c4a",
   "metadata": {},
   "outputs": [],
   "source": [
    "import pandas as pd\n",
    "import numpy as np\n",
    "import matplotlib.pyplot as plt"
   ]
  },
  {
   "cell_type": "code",
   "execution_count": 2,
   "id": "c5d06ad3-a338-4085-b8d4-2261823574a8",
   "metadata": {},
   "outputs": [
    {
     "data": {
      "text/html": [
       "<div>\n",
       "<style scoped>\n",
       "    .dataframe tbody tr th:only-of-type {\n",
       "        vertical-align: middle;\n",
       "    }\n",
       "\n",
       "    .dataframe tbody tr th {\n",
       "        vertical-align: top;\n",
       "    }\n",
       "\n",
       "    .dataframe thead th {\n",
       "        text-align: right;\n",
       "    }\n",
       "</style>\n",
       "<table border=\"1\" class=\"dataframe\">\n",
       "  <thead>\n",
       "    <tr style=\"text-align: right;\">\n",
       "      <th></th>\n",
       "      <th>Id</th>\n",
       "      <th>ProductId</th>\n",
       "      <th>UserId</th>\n",
       "      <th>ProfileName</th>\n",
       "      <th>HelpfulnessNumerator</th>\n",
       "      <th>HelpfulnessDenominator</th>\n",
       "      <th>Score</th>\n",
       "      <th>Time</th>\n",
       "      <th>Summary</th>\n",
       "      <th>Text</th>\n",
       "    </tr>\n",
       "  </thead>\n",
       "  <tbody>\n",
       "    <tr>\n",
       "      <th>0</th>\n",
       "      <td>1</td>\n",
       "      <td>B001E4KFG0</td>\n",
       "      <td>A3SGXH7AUHU8GW</td>\n",
       "      <td>delmartian</td>\n",
       "      <td>1</td>\n",
       "      <td>1</td>\n",
       "      <td>5</td>\n",
       "      <td>1303862400</td>\n",
       "      <td>Good Quality Dog Food</td>\n",
       "      <td>I have bought several of the Vitality canned d...</td>\n",
       "    </tr>\n",
       "    <tr>\n",
       "      <th>1</th>\n",
       "      <td>2</td>\n",
       "      <td>B00813GRG4</td>\n",
       "      <td>A1D87F6ZCVE5NK</td>\n",
       "      <td>dll pa</td>\n",
       "      <td>0</td>\n",
       "      <td>0</td>\n",
       "      <td>1</td>\n",
       "      <td>1346976000</td>\n",
       "      <td>Not as Advertised</td>\n",
       "      <td>Product arrived labeled as Jumbo Salted Peanut...</td>\n",
       "    </tr>\n",
       "    <tr>\n",
       "      <th>2</th>\n",
       "      <td>3</td>\n",
       "      <td>B000LQOCH0</td>\n",
       "      <td>ABXLMWJIXXAIN</td>\n",
       "      <td>Natalia Corres \"Natalia Corres\"</td>\n",
       "      <td>1</td>\n",
       "      <td>1</td>\n",
       "      <td>4</td>\n",
       "      <td>1219017600</td>\n",
       "      <td>\"Delight\" says it all</td>\n",
       "      <td>This is a confection that has been around a fe...</td>\n",
       "    </tr>\n",
       "    <tr>\n",
       "      <th>3</th>\n",
       "      <td>4</td>\n",
       "      <td>B000UA0QIQ</td>\n",
       "      <td>A395BORC6FGVXV</td>\n",
       "      <td>Karl</td>\n",
       "      <td>3</td>\n",
       "      <td>3</td>\n",
       "      <td>2</td>\n",
       "      <td>1307923200</td>\n",
       "      <td>Cough Medicine</td>\n",
       "      <td>If you are looking for the secret ingredient i...</td>\n",
       "    </tr>\n",
       "    <tr>\n",
       "      <th>4</th>\n",
       "      <td>5</td>\n",
       "      <td>B006K2ZZ7K</td>\n",
       "      <td>A1UQRSCLF8GW1T</td>\n",
       "      <td>Michael D. Bigham \"M. Wassir\"</td>\n",
       "      <td>0</td>\n",
       "      <td>0</td>\n",
       "      <td>5</td>\n",
       "      <td>1350777600</td>\n",
       "      <td>Great taffy</td>\n",
       "      <td>Great taffy at a great price.  There was a wid...</td>\n",
       "    </tr>\n",
       "  </tbody>\n",
       "</table>\n",
       "</div>"
      ],
      "text/plain": [
       "   Id   ProductId          UserId                      ProfileName  \\\n",
       "0   1  B001E4KFG0  A3SGXH7AUHU8GW                       delmartian   \n",
       "1   2  B00813GRG4  A1D87F6ZCVE5NK                           dll pa   \n",
       "2   3  B000LQOCH0   ABXLMWJIXXAIN  Natalia Corres \"Natalia Corres\"   \n",
       "3   4  B000UA0QIQ  A395BORC6FGVXV                             Karl   \n",
       "4   5  B006K2ZZ7K  A1UQRSCLF8GW1T    Michael D. Bigham \"M. Wassir\"   \n",
       "\n",
       "   HelpfulnessNumerator  HelpfulnessDenominator  Score        Time  \\\n",
       "0                     1                       1      5  1303862400   \n",
       "1                     0                       0      1  1346976000   \n",
       "2                     1                       1      4  1219017600   \n",
       "3                     3                       3      2  1307923200   \n",
       "4                     0                       0      5  1350777600   \n",
       "\n",
       "                 Summary                                               Text  \n",
       "0  Good Quality Dog Food  I have bought several of the Vitality canned d...  \n",
       "1      Not as Advertised  Product arrived labeled as Jumbo Salted Peanut...  \n",
       "2  \"Delight\" says it all  This is a confection that has been around a fe...  \n",
       "3         Cough Medicine  If you are looking for the secret ingredient i...  \n",
       "4            Great taffy  Great taffy at a great price.  There was a wid...  "
      ]
     },
     "execution_count": 2,
     "metadata": {},
     "output_type": "execute_result"
    }
   ],
   "source": [
    "# import data\n",
    "df=pd.read_csv('Reviews.csv')\n",
    "df.head()"
   ]
  },
  {
   "cell_type": "code",
   "execution_count": 3,
   "id": "54afed7c-4cdd-4583-bb5e-9b2fb156aba4",
   "metadata": {},
   "outputs": [
    {
     "data": {
      "text/plain": [
       "(568454, 10)"
      ]
     },
     "execution_count": 3,
     "metadata": {},
     "output_type": "execute_result"
    }
   ],
   "source": [
    "# check data dimension\n",
    "df.shape"
   ]
  },
  {
   "cell_type": "code",
   "execution_count": 4,
   "id": "663c1ea5-9ca9-4422-aac9-15a368595042",
   "metadata": {},
   "outputs": [
    {
     "data": {
      "text/html": [
       "<div>\n",
       "<style scoped>\n",
       "    .dataframe tbody tr th:only-of-type {\n",
       "        vertical-align: middle;\n",
       "    }\n",
       "\n",
       "    .dataframe tbody tr th {\n",
       "        vertical-align: top;\n",
       "    }\n",
       "\n",
       "    .dataframe thead th {\n",
       "        text-align: right;\n",
       "    }\n",
       "</style>\n",
       "<table border=\"1\" class=\"dataframe\">\n",
       "  <thead>\n",
       "    <tr style=\"text-align: right;\">\n",
       "      <th></th>\n",
       "      <th>Id</th>\n",
       "      <th>ProductId</th>\n",
       "      <th>UserId</th>\n",
       "      <th>ProfileName</th>\n",
       "      <th>HelpfulnessNumerator</th>\n",
       "      <th>HelpfulnessDenominator</th>\n",
       "      <th>Score</th>\n",
       "      <th>Time</th>\n",
       "      <th>Summary</th>\n",
       "      <th>Text</th>\n",
       "    </tr>\n",
       "  </thead>\n",
       "  <tbody>\n",
       "  </tbody>\n",
       "</table>\n",
       "</div>"
      ],
      "text/plain": [
       "Empty DataFrame\n",
       "Columns: [Id, ProductId, UserId, ProfileName, HelpfulnessNumerator, HelpfulnessDenominator, Score, Time, Summary, Text]\n",
       "Index: []"
      ]
     },
     "execution_count": 4,
     "metadata": {},
     "output_type": "execute_result"
    }
   ],
   "source": [
    "# check input data completeness\n",
    "df[df['Summary']==np.nan]"
   ]
  },
  {
   "cell_type": "code",
   "execution_count": 5,
   "id": "d6906b6f-bfa6-41ff-9b66-3d3f5d9c3244",
   "metadata": {},
   "outputs": [
    {
     "data": {
      "text/html": [
       "<div>\n",
       "<style scoped>\n",
       "    .dataframe tbody tr th:only-of-type {\n",
       "        vertical-align: middle;\n",
       "    }\n",
       "\n",
       "    .dataframe tbody tr th {\n",
       "        vertical-align: top;\n",
       "    }\n",
       "\n",
       "    .dataframe thead th {\n",
       "        text-align: right;\n",
       "    }\n",
       "</style>\n",
       "<table border=\"1\" class=\"dataframe\">\n",
       "  <thead>\n",
       "    <tr style=\"text-align: right;\">\n",
       "      <th></th>\n",
       "      <th>Id</th>\n",
       "      <th>ProductId</th>\n",
       "      <th>UserId</th>\n",
       "      <th>ProfileName</th>\n",
       "      <th>HelpfulnessNumerator</th>\n",
       "      <th>HelpfulnessDenominator</th>\n",
       "      <th>Score</th>\n",
       "      <th>Time</th>\n",
       "      <th>Summary</th>\n",
       "      <th>Text</th>\n",
       "    </tr>\n",
       "  </thead>\n",
       "  <tbody>\n",
       "  </tbody>\n",
       "</table>\n",
       "</div>"
      ],
      "text/plain": [
       "Empty DataFrame\n",
       "Columns: [Id, ProductId, UserId, ProfileName, HelpfulnessNumerator, HelpfulnessDenominator, Score, Time, Summary, Text]\n",
       "Index: []"
      ]
     },
     "execution_count": 5,
     "metadata": {},
     "output_type": "execute_result"
    }
   ],
   "source": [
    "# check output data completeness\n",
    "df[df['Score']==np.nan]"
   ]
  },
  {
   "cell_type": "markdown",
   "id": "66637bd1-a12d-4522-a33e-24aec25fb424",
   "metadata": {},
   "source": [
    "Seems all data are complete with zero null spaces :)"
   ]
  },
  {
   "cell_type": "code",
   "execution_count": 6,
   "id": "8d2839fc-f3ee-473b-889b-efba8de7fc5f",
   "metadata": {},
   "outputs": [
    {
     "data": {
      "text/plain": [
       "(array([ 52268.,  29769.,  42640.,  80655., 363122.]),\n",
       " array([1. , 1.8, 2.6, 3.4, 4.2, 5. ]),\n",
       " <BarContainer object of 5 artists>)"
      ]
     },
     "execution_count": 6,
     "metadata": {},
     "output_type": "execute_result"
    },
    {
     "data": {
      "image/png": "[encoded data removed]",
      "text/plain": [
       "<Figure size 640x480 with 1 Axes>"
      ]
     },
     "metadata": {},
     "output_type": "display_data"
    }
   ],
   "source": [
    "# check score histogram\n",
    "plt.hist(df['Score'],bins=5,color='green')"
   ]
  },
  {
   "cell_type": "markdown",
   "id": "9d0605eb-f4c3-48dc-b069-84bb673e4334",
   "metadata": {},
   "source": [
    "Here I will convert each score into sentiment.\n",
    "\n",
    "A review is regarded positive if the score is greater than 3 and negative otherwise. "
   ]
  },
  {
   "cell_type": "code",
   "execution_count": 7,
   "id": "0fe8e348-7c4c-4f2e-8163-bc57f3a07552",
   "metadata": {},
   "outputs": [
    {
     "data": {
      "text/html": [
       "<div>\n",
       "<style scoped>\n",
       "    .dataframe tbody tr th:only-of-type {\n",
       "        vertical-align: middle;\n",
       "    }\n",
       "\n",
       "    .dataframe tbody tr th {\n",
       "        vertical-align: top;\n",
       "    }\n",
       "\n",
       "    .dataframe thead th {\n",
       "        text-align: right;\n",
       "    }\n",
       "</style>\n",
       "<table border=\"1\" class=\"dataframe\">\n",
       "  <thead>\n",
       "    <tr style=\"text-align: right;\">\n",
       "      <th></th>\n",
       "      <th>Id</th>\n",
       "      <th>ProductId</th>\n",
       "      <th>UserId</th>\n",
       "      <th>ProfileName</th>\n",
       "      <th>HelpfulnessNumerator</th>\n",
       "      <th>HelpfulnessDenominator</th>\n",
       "      <th>Score</th>\n",
       "      <th>Time</th>\n",
       "      <th>Summary</th>\n",
       "      <th>Text</th>\n",
       "      <th>Sentiment</th>\n",
       "    </tr>\n",
       "  </thead>\n",
       "  <tbody>\n",
       "    <tr>\n",
       "      <th>0</th>\n",
       "      <td>1</td>\n",
       "      <td>B001E4KFG0</td>\n",
       "      <td>A3SGXH7AUHU8GW</td>\n",
       "      <td>delmartian</td>\n",
       "      <td>1</td>\n",
       "      <td>1</td>\n",
       "      <td>5</td>\n",
       "      <td>1303862400</td>\n",
       "      <td>Good Quality Dog Food</td>\n",
       "      <td>I have bought several of the Vitality canned d...</td>\n",
       "      <td>1</td>\n",
       "    </tr>\n",
       "    <tr>\n",
       "      <th>1</th>\n",
       "      <td>2</td>\n",
       "      <td>B00813GRG4</td>\n",
       "      <td>A1D87F6ZCVE5NK</td>\n",
       "      <td>dll pa</td>\n",
       "      <td>0</td>\n",
       "      <td>0</td>\n",
       "      <td>1</td>\n",
       "      <td>1346976000</td>\n",
       "      <td>Not as Advertised</td>\n",
       "      <td>Product arrived labeled as Jumbo Salted Peanut...</td>\n",
       "      <td>0</td>\n",
       "    </tr>\n",
       "    <tr>\n",
       "      <th>2</th>\n",
       "      <td>3</td>\n",
       "      <td>B000LQOCH0</td>\n",
       "      <td>ABXLMWJIXXAIN</td>\n",
       "      <td>Natalia Corres \"Natalia Corres\"</td>\n",
       "      <td>1</td>\n",
       "      <td>1</td>\n",
       "      <td>4</td>\n",
       "      <td>1219017600</td>\n",
       "      <td>\"Delight\" says it all</td>\n",
       "      <td>This is a confection that has been around a fe...</td>\n",
       "      <td>1</td>\n",
       "    </tr>\n",
       "    <tr>\n",
       "      <th>3</th>\n",
       "      <td>4</td>\n",
       "      <td>B000UA0QIQ</td>\n",
       "      <td>A395BORC6FGVXV</td>\n",
       "      <td>Karl</td>\n",
       "      <td>3</td>\n",
       "      <td>3</td>\n",
       "      <td>2</td>\n",
       "      <td>1307923200</td>\n",
       "      <td>Cough Medicine</td>\n",
       "      <td>If you are looking for the secret ingredient i...</td>\n",
       "      <td>0</td>\n",
       "    </tr>\n",
       "    <tr>\n",
       "      <th>4</th>\n",
       "      <td>5</td>\n",
       "      <td>B006K2ZZ7K</td>\n",
       "      <td>A1UQRSCLF8GW1T</td>\n",
       "      <td>Michael D. Bigham \"M. Wassir\"</td>\n",
       "      <td>0</td>\n",
       "      <td>0</td>\n",
       "      <td>5</td>\n",
       "      <td>1350777600</td>\n",
       "      <td>Great taffy</td>\n",
       "      <td>Great taffy at a great price.  There was a wid...</td>\n",
       "      <td>1</td>\n",
       "    </tr>\n",
       "  </tbody>\n",
       "</table>\n",
       "</div>"
      ],
      "text/plain": [
       "   Id   ProductId          UserId                      ProfileName  \\\n",
       "0   1  B001E4KFG0  A3SGXH7AUHU8GW                       delmartian   \n",
       "1   2  B00813GRG4  A1D87F6ZCVE5NK                           dll pa   \n",
       "2   3  B000LQOCH0   ABXLMWJIXXAIN  Natalia Corres \"Natalia Corres\"   \n",
       "3   4  B000UA0QIQ  A395BORC6FGVXV                             Karl   \n",
       "4   5  B006K2ZZ7K  A1UQRSCLF8GW1T    Michael D. Bigham \"M. Wassir\"   \n",
       "\n",
       "   HelpfulnessNumerator  HelpfulnessDenominator  Score        Time  \\\n",
       "0                     1                       1      5  1303862400   \n",
       "1                     0                       0      1  1346976000   \n",
       "2                     1                       1      4  1219017600   \n",
       "3                     3                       3      2  1307923200   \n",
       "4                     0                       0      5  1350777600   \n",
       "\n",
       "                 Summary                                               Text  \\\n",
       "0  Good Quality Dog Food  I have bought several of the Vitality canned d...   \n",
       "1      Not as Advertised  Product arrived labeled as Jumbo Salted Peanut...   \n",
       "2  \"Delight\" says it all  This is a confection that has been around a fe...   \n",
       "3         Cough Medicine  If you are looking for the secret ingredient i...   \n",
       "4            Great taffy  Great taffy at a great price.  There was a wid...   \n",
       "\n",
       "   Sentiment  \n",
       "0          1  \n",
       "1          0  \n",
       "2          1  \n",
       "3          0  \n",
       "4          1  "
      ]
     },
     "execution_count": 7,
     "metadata": {},
     "output_type": "execute_result"
    }
   ],
   "source": [
    "# convert score to sentiment\n",
    "sentiment=df['Score'].apply(lambda score: 1 if score>3 else 0) # 1 is positive and 0 negative\n",
    "df['Sentiment']=sentiment\n",
    "df.head()"
   ]
  },
  {
   "cell_type": "markdown",
   "id": "4eb19b9b-e8a0-4f5e-9a18-f71c206d3d11",
   "metadata": {},
   "source": [
    "Now I'm ready to split train and test data."
   ]
  },
  {
   "cell_type": "markdown",
   "id": "f5cd5539-2e8c-40ab-96e7-846ab8ad1e88",
   "metadata": {},
   "source": [
    "### b) Split train data and test data"
   ]
  },
  {
   "cell_type": "code",
   "execution_count": 8,
   "id": "e4f22427-7308-496b-832d-d74322dc4e08",
   "metadata": {},
   "outputs": [],
   "source": [
    "# split training data and testing data\n",
    "from sklearn.model_selection import train_test_split\n",
    "X_train,X_test,Y_train,Y_test=train_test_split(df['Summary'],df['Sentiment'],train_size=0.8)"
   ]
  },
  {
   "cell_type": "markdown",
   "id": "aa8abc82-7ba6-47c0-8381-79c24f4ab9fa",
   "metadata": {},
   "source": [
    "In order to let the machine know these reviews, I will have to convert each review from string to vectors.\n",
    "\n",
    "The following steps will do exactly that."
   ]
  },
  {
   "cell_type": "markdown",
   "id": "99e3e360-6671-4e36-9445-6b84ff241a14",
   "metadata": {},
   "source": [
    "## 2. Data Pre-processing"
   ]
  },
  {
   "cell_type": "code",
   "execution_count": 9,
   "id": "cb48ba35-ddf9-47e4-a31d-0866dbb460eb",
   "metadata": {},
   "outputs": [],
   "source": [
    "# data pre-processing\n",
    "import nltk\n",
    "import re"
   ]
  },
  {
   "cell_type": "markdown",
   "id": "7c1b8352-8169-4220-8e86-bc0fda908ada",
   "metadata": {},
   "source": [
    "### a) Word tokenizing\n",
    "This will convert strings into separate tokens, so that it's easier to work on each word in any string, including punctuation and stopwords removal, stemming and vectorizing."
   ]
  },
  {
   "cell_type": "code",
   "execution_count": 10,
   "id": "98db0bef-0c1c-49cf-92bb-ab413a39760e",
   "metadata": {},
   "outputs": [
    {
     "data": {
      "text/plain": [
       "139630                     [Too, pricey, for, cat, food]\n",
       "173525                                [TERRIBLE, COFFEE]\n",
       "100627                        [So, good, !, Love, it, .]\n",
       "193535                              [Sweet, and, Golden]\n",
       "151987                                   [very, good, !]\n",
       "                               ...                      \n",
       "436375          [Filling, but, absolutely, tasteless, .]\n",
       "561142     [Longest, lasting, dog, treat, I, 've, found]\n",
       "495613                                              [PB]\n",
       "326592    [Good, Tasting, Decaf, Coffee, -, Recommended]\n",
       "92475                                   [not, the, same]\n",
       "Name: Summary, Length: 454763, dtype: object"
      ]
     },
     "execution_count": 10,
     "metadata": {},
     "output_type": "execute_result"
    }
   ],
   "source": [
    "# word tokenizing\n",
    "def tokenize(arr):\n",
    "    for i in arr.keys():\n",
    "        arr[i]=re.sub(r'[0-9]+', '', str(arr[i])) # remove numbers\n",
    "        arr[i]=nltk.word_tokenize(arr[i])\n",
    "    return arr\n",
    "tokens = tokenize(X_train)\n",
    "tokens"
   ]
  },
  {
   "cell_type": "markdown",
   "id": "a00ac2e5-7ac3-43c9-9784-eb30dea2a823",
   "metadata": {},
   "source": [
    "### b) Punctuation and stopwords removal\n",
    "Stopwords are words that do not necessarily carry sentiments. They should be removed before data training since they might affect the model precision."
   ]
  },
  {
   "cell_type": "code",
   "execution_count": 11,
   "id": "35fee5e0-e93c-4e54-a749-c8a5835bf602",
   "metadata": {},
   "outputs": [
    {
     "data": {
      "text/plain": [
       "139630                            [pricey, cat, food]\n",
       "173525                             [terrible, coffee]\n",
       "100627                                   [good, love]\n",
       "193535                                [sweet, golden]\n",
       "151987                                         [good]\n",
       "                             ...                     \n",
       "436375               [filling, absolutely, tasteless]\n",
       "561142     [longest, lasting, dog, treat, 've, found]\n",
       "495613                                           [pb]\n",
       "326592    [good, tasting, decaf, coffee, recommended]\n",
       "92475                                              []\n",
       "Name: Summary, Length: 454763, dtype: object"
      ]
     },
     "execution_count": 11,
     "metadata": {},
     "output_type": "execute_result"
    }
   ],
   "source": [
    "# punctuationand stopwords removal\n",
    "def remove_num_pun_stops(arr):\n",
    "    import string\n",
    "    punctuation=string.punctuation\n",
    "    stopwords=nltk.corpus.stopwords.words('english')\n",
    "    for i in arr.keys():\n",
    "        if not isinstance(arr[i],float):\n",
    "            arr[i]=[w.lower() for w in arr[i] if w.lower() not in punctuation and w.lower() not in stopwords]\n",
    "    return arr\n",
    "\n",
    "tokens_wo_num_pun_stops=remove_num_pun_stops(tokens)\n",
    "tokens_wo_num_pun_stops"
   ]
  },
  {
   "cell_type": "markdown",
   "id": "c94ff557-cd6f-4825-8aea-2cc138e1c03f",
   "metadata": {},
   "source": [
    "### c) Stemming\n",
    "Here I will convert each of the tokens into stems. Stemming is a process that converts each word into its stem. This will significantly decrease the number of features in the model and thus drops the training time without sacrificing the precision of the model."
   ]
  },
  {
   "cell_type": "code",
   "execution_count": 12,
   "id": "c256e590-3257-41de-9b18-e00d52f50678",
   "metadata": {},
   "outputs": [
    {
     "data": {
      "text/plain": [
       "139630                     pricey cat food\n",
       "173525                       terribl coffe\n",
       "100627                           good love\n",
       "193535                        sweet golden\n",
       "151987                                good\n",
       "                        ...               \n",
       "436375              fill absolut tasteless\n",
       "561142    longest last dog treat 've found\n",
       "495613                                  pb\n",
       "326592     good tast decaf coffe recommend\n",
       "92475                                     \n",
       "Name: Summary, Length: 454763, dtype: object"
      ]
     },
     "execution_count": 12,
     "metadata": {},
     "output_type": "execute_result"
    }
   ],
   "source": [
    "# stemming and converting arrays into strings\n",
    "ps=nltk.stem.PorterStemmer()\n",
    "def stem(arr):\n",
    "    for i in arr.keys():\n",
    "        if not isinstance(arr[i],float):\n",
    "            arr[i]=' '.join([ps.stem(w) for w in arr[i]]) # convert lists back to strings\n",
    "    return arr\n",
    "stems = stem(tokens_wo_num_pun_stops)\n",
    "stems"
   ]
  },
  {
   "cell_type": "markdown",
   "id": "5a8a7fec-f503-4a4a-92dc-9cba3376f905",
   "metadata": {},
   "source": [
    "### d) Word vectorizing\n",
    "Now I will convert all the stems in each string into a vector. This is also called one-hot encoding.\n",
    "\n",
    "This process takes a string of words and returns a vector. Each of these vectors will be in shape (1,N) where N is the number of features, usually determined by the number of stems in the entire training data. However I limit N to be 1000 just because my laptop can't train a model on that many features.\n",
    "\n",
    "I also set my ngram_range to be (1,2), which means this is a unigram and bigram model, just in case I overlooked some word combinations that play significant role in the output."
   ]
  },
  {
   "cell_type": "code",
   "execution_count": 13,
   "id": "4de403b3-07d1-448f-9e21-e7c35d2ea0df",
   "metadata": {},
   "outputs": [
    {
     "data": {
      "text/html": [
       "<style>#sk-container-id-1 {color: black;}#sk-container-id-1 pre{padding: 0;}#sk-container-id-1 div.sk-toggleable {background-color: white;}#sk-container-id-1 label.sk-toggleable__label {cursor: pointer;display: block;width: 100%;margin-bottom: 0;padding: 0.3em;box-sizing: border-box;text-align: center;}#sk-container-id-1 label.sk-toggleable__label-arrow:before {content: \"▸\";float: left;margin-right: 0.25em;color: #696969;}#sk-container-id-1 label.sk-toggleable__label-arrow:hover:before {color: black;}#sk-container-id-1 div.sk-estimator:hover label.sk-toggleable__label-arrow:before {color: black;}#sk-container-id-1 div.sk-toggleable__content {max-height: 0;max-width: 0;overflow: hidden;text-align: left;background-color: #f0f8ff;}#sk-container-id-1 div.sk-toggleable__content pre {margin: 0.2em;color: black;border-radius: 0.25em;background-color: #f0f8ff;}#sk-container-id-1 input.sk-toggleable__control:checked~div.sk-toggleable__content {max-height: 200px;max-width: 100%;overflow: auto;}#sk-container-id-1 input.sk-toggleable__control:checked~label.sk-toggleable__label-arrow:before {content: \"▾\";}#sk-container-id-1 div.sk-estimator input.sk-toggleable__control:checked~label.sk-toggleable__label {background-color: #d4ebff;}#sk-container-id-1 div.sk-label input.sk-toggleable__control:checked~label.sk-toggleable__label {background-color: #d4ebff;}#sk-container-id-1 input.sk-hidden--visually {border: 0;clip: rect(1px 1px 1px 1px);clip: rect(1px, 1px, 1px, 1px);height: 1px;margin: -1px;overflow: hidden;padding: 0;position: absolute;width: 1px;}#sk-container-id-1 div.sk-estimator {font-family: monospace;background-color: #f0f8ff;border: 1px dotted black;border-radius: 0.25em;box-sizing: border-box;margin-bottom: 0.5em;}#sk-container-id-1 div.sk-estimator:hover {background-color: #d4ebff;}#sk-container-id-1 div.sk-parallel-item::after {content: \"\";width: 100%;border-bottom: 1px solid gray;flex-grow: 1;}#sk-container-id-1 div.sk-label:hover label.sk-toggleable__label {background-color: #d4ebff;}#sk-container-id-1 div.sk-serial::before {content: \"\";position: absolute;border-left: 1px solid gray;box-sizing: border-box;top: 0;bottom: 0;left: 50%;z-index: 0;}#sk-container-id-1 div.sk-serial {display: flex;flex-direction: column;align-items: center;background-color: white;padding-right: 0.2em;padding-left: 0.2em;position: relative;}#sk-container-id-1 div.sk-item {position: relative;z-index: 1;}#sk-container-id-1 div.sk-parallel {display: flex;align-items: stretch;justify-content: center;background-color: white;position: relative;}#sk-container-id-1 div.sk-item::before, #sk-container-id-1 div.sk-parallel-item::before {content: \"\";position: absolute;border-left: 1px solid gray;box-sizing: border-box;top: 0;bottom: 0;left: 50%;z-index: -1;}#sk-container-id-1 div.sk-parallel-item {display: flex;flex-direction: column;z-index: 1;position: relative;background-color: white;}#sk-container-id-1 div.sk-parallel-item:first-child::after {align-self: flex-end;width: 50%;}#sk-container-id-1 div.sk-parallel-item:last-child::after {align-self: flex-start;width: 50%;}#sk-container-id-1 div.sk-parallel-item:only-child::after {width: 0;}#sk-container-id-1 div.sk-dashed-wrapped {border: 1px dashed gray;margin: 0 0.4em 0.5em 0.4em;box-sizing: border-box;padding-bottom: 0.4em;background-color: white;}#sk-container-id-1 div.sk-label label {font-family: monospace;font-weight: bold;display: inline-block;line-height: 1.2em;}#sk-container-id-1 div.sk-label-container {text-align: center;}#sk-container-id-1 div.sk-container {/* jupyter's `normalize.less` sets `[hidden] { display: none; }` but bootstrap.min.css set `[hidden] { display: none !important; }` so we also need the `!important` here to be able to override the default hidden behavior on the sphinx rendered scikit-learn.org. See: https://github.com/scikit-learn/scikit-learn/issues/21755 */display: inline-block !important;position: relative;}#sk-container-id-1 div.sk-text-repr-fallback {display: none;}</style><div id=\"sk-container-id-1\" class=\"sk-top-container\"><div class=\"sk-text-repr-fallback\"><pre>TfidfVectorizer(max_features=1000, ngram_range=(1, 2), stop_words=&#x27;english&#x27;,\n",
       "                token_pattern=&#x27;(?u)\\\\b[A-Za-z]+\\\\b&#x27;)</pre><b>In a Jupyter environment, please rerun this cell to show the HTML representation or trust the notebook. <br />On GitHub, the HTML representation is unable to render, please try loading this page with nbviewer.org.</b></div><div class=\"sk-container\" hidden><div class=\"sk-item\"><div class=\"sk-estimator sk-toggleable\"><input class=\"sk-toggleable__control sk-hidden--visually\" id=\"sk-estimator-id-1\" type=\"checkbox\" checked><label for=\"sk-estimator-id-1\" class=\"sk-toggleable__label sk-toggleable__label-arrow\">TfidfVectorizer</label><div class=\"sk-toggleable__content\"><pre>TfidfVectorizer(max_features=1000, ngram_range=(1, 2), stop_words=&#x27;english&#x27;,\n",
       "                token_pattern=&#x27;(?u)\\\\b[A-Za-z]+\\\\b&#x27;)</pre></div></div></div></div></div>"
      ],
      "text/plain": [
       "TfidfVectorizer(max_features=1000, ngram_range=(1, 2), stop_words='english',\n",
       "                token_pattern='(?u)\\\\b[A-Za-z]+\\\\b')"
      ]
     },
     "execution_count": 13,
     "metadata": {},
     "output_type": "execute_result"
    }
   ],
   "source": [
    "# word vectorizing\n",
    "from sklearn.feature_extraction.text import TfidfVectorizer\n",
    "vectorizer=TfidfVectorizer(\n",
    "    lowercase=True,\n",
    "    ngram_range=(1,2),\n",
    "    stop_words='english',\n",
    "    max_features=1000, # limit number of features to be 200\n",
    "    token_pattern=r'(?u)\\b[A-Za-z]+\\b' # Requested the token pattern to be number-free\n",
    ")\n",
    "V=vectorizer.fit(stems) # vectorizing\n",
    "\n",
    "# This is the vectorizer we will be using later on\n",
    "V"
   ]
  },
  {
   "cell_type": "code",
   "execution_count": 14,
   "id": "f6e8b99d-3ca4-47c1-a579-35ac089e984c",
   "metadata": {},
   "outputs": [
    {
     "data": {
      "text/plain": [
       "array([[0., 0., 0., ..., 0., 0., 0.],\n",
       "       [0., 0., 0., ..., 0., 0., 0.],\n",
       "       [0., 0., 0., ..., 0., 0., 0.],\n",
       "       ...,\n",
       "       [0., 0., 0., ..., 0., 0., 0.],\n",
       "       [0., 0., 0., ..., 0., 0., 0.],\n",
       "       [0., 0., 0., ..., 0., 0., 0.]])"
      ]
     },
     "execution_count": 14,
     "metadata": {},
     "output_type": "execute_result"
    }
   ],
   "source": [
    "# one-hot encoding \n",
    "one_hot_encoded_matrix=V.transform(stems).toarray()\n",
    "\n",
    "# This is the matrix generated with one-hot encoding\n",
    "one_hot_encoded_matrix"
   ]
  },
  {
   "cell_type": "markdown",
   "id": "0533a873-696e-42f8-8ad9-a67484b186c9",
   "metadata": {},
   "source": [
    "BAM!"
   ]
  },
  {
   "cell_type": "markdown",
   "id": "4b8fec43-67fb-4a10-a813-55e1ec4c22dc",
   "metadata": {},
   "source": [
    "Later I will use this vector space as the train input data in logistic regression model and random forest model."
   ]
  },
  {
   "cell_type": "code",
   "execution_count": 15,
   "id": "976b50bf-b78d-43d5-b30d-de1361684a11",
   "metadata": {},
   "outputs": [
    {
     "data": {
      "text/plain": [
       "array(['absolut', 'absolut best', 'absolut delici', 'acid', 'actual',\n",
       "       'ad', 'add', 'addict', 'addit', 'adult', 'advertis', 'afford',\n",
       "       'aftertast', 'agre', 'allergi', 'almond', 'altern', 'alway',\n",
       "       'amaz', 'amazon', 'anoth', 'anyon', 'anyth', 'appl', 'approv',\n",
       "       'aroma', 'arriv', 'artifici', 'assort', 'authent', 'avail',\n",
       "       'averag', 'aw', 'away', 'awesom', 'awesom product', 'b', 'babi',\n",
       "       'babi food', 'babi love', 'bacon', 'bad', 'bad tast', 'bag',\n",
       "       'bake', 'balanc', 'ball', 'banana', 'bar', 'bargain', 'base',\n",
       "       'basic', 'batch', 'bbq', 'bean', 'bear', 'beat', 'beauti', 'beef',\n",
       "       'beef jerki', 'beer', 'believ', 'belli', 'benefit', 'berri',\n",
       "       'best', 'best chip', 'best chocol', 'best coffe', 'best cooki',\n",
       "       'best dog', 'best flavor', 'best gf', 'best gluten', 'best hot',\n",
       "       'best instant', 'best k', 'best popcorn', 'best price',\n",
       "       'best snack', 'best tast', 'best tea', 'best ve', 'better',\n",
       "       'better expect', 'beverag', 'bewar', 'big', 'biscuit', 'bit',\n",
       "       'bite', 'bitter', 'black', 'black tea', 'bland', 'blend', 'blue',\n",
       "       'blueberri', 'bob', 'bodi', 'bold', 'bold coffe', 'bone', 'boost',\n",
       "       'bottl', 'bought', 'box', 'boy', 'brand', 'bread', 'break',\n",
       "       'breakfast', 'breakfast blend', 'breath', 'brew', 'brewer',\n",
       "       'bring', 'broken', 'brown', 'brown rice', 'browni', 'bulk', 'busi',\n",
       "       'butter', 'buy', 'buyer', 'buyer bewar', 'c', 'ca', 'ca n',\n",
       "       'caffein', 'cake', 'cal', 'calm', 'calori', 'came', 'candi',\n",
       "       'cappuccino', 'caramel', 'carb', 'care', 'cat', 'cat food',\n",
       "       'cat like', 'cat love', 'cat s', 'caus', 'cereal', 'chai',\n",
       "       'chai tea', 'chamomil', 'chang', 'cheap', 'cheaper', 'chees',\n",
       "       'chemic', 'cherri', 'chew', 'chewer', 'chewi', 'chicken',\n",
       "       'childhood', 'chili', 'china', 'chip', 'chocol', 'chocol chip',\n",
       "       'choic', 'christma', 'cinnamon', 'classic', 'clean', 'close',\n",
       "       'cocoa', 'coconut', 'coconut oil', 'coconut water', 'coffe',\n",
       "       'coffe good', 'coffe great', 'coffe lover', 'coffe pod', 'cold',\n",
       "       'color', 'com', 'come', 'compani', 'compar', 'complet', 'consist',\n",
       "       'contain', 'control', 'conveni', 'cook', 'cooki', 'cool', 'corn',\n",
       "       'cost', 'count', 'crack', 'cracker', 'crave', 'crazi', 'cream',\n",
       "       'creami', 'crisp', 'crispi', 'crunch', 'crunchi', 'crystal', 'cup',\n",
       "       'cup coffe', 'cup tea', 'curri', 'custom', 'custom servic', 'cut',\n",
       "       'cute', 'd', 'daili', 'damag', 'danger', 'dark', 'dark chocol',\n",
       "       'dark roast', 'darn', 'date', 'daughter', 'daughter love', 'day',\n",
       "       'deal', 'decaf', 'decent', 'definit', 'delic', 'delici',\n",
       "       'delici healthi', 'delici nutriti', 'delici tea', 'delight',\n",
       "       'delish', 'deliv', 'deliveri', 'dent', 'dental', 'describ',\n",
       "       'descript', 'dessert', 'diabet', 'diamond', 'diet', 'differ',\n",
       "       'digest', 'dinner', 'dip', 'disappoint', 'disgust', 'dish', 'dog',\n",
       "       'dog food', 'dog like', 'dog love', 'dog n', 'dog s', 'dog treat',\n",
       "       'doggi', 'dont', 'doubl', 'dream', 'dress', 'dri', 'drink',\n",
       "       'drinker', 'drop', 'e', 'earl', 'earl grey', 'earth', 'easi',\n",
       "       'easi use', 'eat', 'eater', 'edibl', 'effect', 'egg', 'els', 'em',\n",
       "       'empti', 'energi', 'energi drink', 'english', 'enjoy', 'espresso',\n",
       "       'everi', 'everyday', 'everyon', 'everyth', 'exactli', 'excel',\n",
       "       'excel coffe', 'excel flavor', 'excel product', 'excel qualiti',\n",
       "       'excel tast', 'excel tea', 'expect', 'expens', 'experi', 'expir',\n",
       "       'expir date', 'extra', 'extract', 'extrem', 'fabul', 'fair',\n",
       "       'fals', 'famili', 'fan', 'fantast', 'far', 'fast', 'fast ship',\n",
       "       'fat', 'favorit', 'favorit coffe', 'favorit flavor', 'favorit k',\n",
       "       'favorit tea', 'favorit treat', 'feed', 'feel', 'fiber', 'filler',\n",
       "       'final', 'fine', 'finicki', 'fish', 'fit', 'fix', 'flavor',\n",
       "       'flavor coffe', 'flour', 'flower', 'food', 'food cat', 'food dog',\n",
       "       'formula', 'fre', 'free', 'french', 'french roast', 'fresh', 'fri',\n",
       "       'friend', 'friendli', 'fruit', 'fruiti', 'fuel', 'fun', 'g', 'ga',\n",
       "       'garlic', 'gf', 'gift', 'ginger', 'girl', 'glad', 'gluten',\n",
       "       'gluten fre', 'gluten free', 'god', 'goe', 'gold', 'golden',\n",
       "       'gone', 'good', 'good buy', 'good cat', 'good coffe', 'good cup',\n",
       "       'good deal', 'good dog', 'good flavor', 'good food', 'good good',\n",
       "       'good great', 'good price', 'good product', 'good qualiti',\n",
       "       'good snack', 'good stuff', 'good tast', 'good tea', 'good valu',\n",
       "       'got', 'gourmet', 'grain', 'granola', 'granola bar', 'grass',\n",
       "       'great', 'great altern', 'great buy', 'great cat', 'great cereal',\n",
       "       'great chip', 'great coffe', 'great cooki', 'great cup',\n",
       "       'great deal', 'great dog', 'great flavor', 'great food',\n",
       "       'great gift', 'great gluten', 'great healthi', 'great hot',\n",
       "       'great idea', 'great item', 'great littl', 'great low',\n",
       "       'great popcorn', 'great price', 'great product', 'great qualiti',\n",
       "       'great servic', 'great snack', 'great stuff', 'great tast',\n",
       "       'great tea', 'great train', 'great treat', 'great valu',\n",
       "       'great way', 'greatest', 'green', 'green mountain', 'green tea',\n",
       "       'greeni', 'grey', 'groceri', 'gross', 'ground', 'grow', 'guilt',\n",
       "       'gum', 'gummi', 'hair', 'half', 'hand', 'handi', 'happi', 'hard',\n",
       "       'hate', 'hazelnut', 'health', 'healthi', 'healthi snack',\n",
       "       'healthi tasti', 'healthi treat', 'healthier', 'heart', 'heat',\n",
       "       'heaven', 'help', 'herbal', 'herbal tea', 'high', 'high qualiti',\n",
       "       'highli', 'highli recommend', 'hint', 'hip', 'hit', 'home',\n",
       "       'homemad', 'honey', 'hope', 'horribl', 'hot', 'hot chocol',\n",
       "       'hot cocoa', 'hot sauc', 'hour', 'hous', 'huge', 'husband', 'ice',\n",
       "       'ice tea', 'idea', 'impress', 'improv', 'increas', 'incred',\n",
       "       'ingredi', 'instant', 'instant coffe', 'instead', 'issu',\n",
       "       'italian', 'item', 'jack', 'jar', 'jelli', 'jerki', 'jet',\n",
       "       'jet fuel', 'job', 'joe', 'juic', 'k', 'k cup', 'kcup', 'kettl',\n",
       "       'keurig', 'kick', 'kid', 'kid love', 'kind', 'kind bar', 'kit',\n",
       "       'kitchen', 'kitten', 'kitti', 'know', 'kona', 'label', 'lack',\n",
       "       'larg', 'latt', 'lb', 'leaf', 'leav', 'lemon', 'let', 'licoric',\n",
       "       'life', 'light', 'like', 'like real', 'lime', 'lipton', 'liquid',\n",
       "       'list', 'littl', 'live', 'liver', 'll', 'local', 'long', 'longer',\n",
       "       'look', 'loos', 'lot', 'love', 'love coffe', 'love em',\n",
       "       'love flavor', 'love food', 'love love', 'love product',\n",
       "       'love stuff', 'love tast', 'love tea', 'love treat', 'lover',\n",
       "       'low', 'low calori', 'low carb', 'low fat', 'lunch', 'm', 'mac',\n",
       "       'machin', 'magic', 'make', 'make great', 'maker', 'mango', 'mani',\n",
       "       'mapl', 'mapl syrup', 'market', 'matcha', 'mayb', 'meal', 'meat',\n",
       "       'medium', 'meh', 'melt', 'memori', 'mess', 'messi', 'mild', 'milk',\n",
       "       'mini', 'mint', 'miracl', 'mislead', 'miss', 'mix', 'mmm', 'mmmm',\n",
       "       'mmmmm', 'mocha', 'mom', 'money', 'month', 'morn', 'mostli',\n",
       "       'mother', 'mountain', 'mouth', 'movi', 'msg', 'mustard', 'n',\n",
       "       'n t', 'nasti', 'natur', 'need', 'new', 'new favorit', 'newman',\n",
       "       'newman s', 'nice', 'nice flavor', 'night', 'nom', 'nom nom',\n",
       "       'non', 'noodl', 'noth', 'noth special', 'nut', 'nutrit', 'nutriti',\n",
       "       'nutti', 'o', 'oat', 'oatmeal', 'oh', 'oil', 'ok', 'okay', 'old',\n",
       "       'oliv', 'oliv oil', 'omg', 'open', 'option', 'orang', 'order',\n",
       "       'oreo', 'organ', 'origin', 'ounc', 'outstand', 'overpr', 'oz',\n",
       "       'pack', 'packag', 'packet', 'pancak', 'parti', 'past', 'pasta',\n",
       "       'paw', 'pay', 'pb', 'peach', 'peanut', 'peanut butter', 'peopl',\n",
       "       'pepper', 'peppermint', 'perfect', 'perfectli', 'pet', 'pick',\n",
       "       'picki', 'picki eater', 'pictur', 'pie', 'piec', 'pill',\n",
       "       'pill pocket', 'pizza', 'plain', 'plant', 'plastic', 'pleas',\n",
       "       'pleasant', 'pleasantli', 'plu', 'pocket', 'pod', 'poor',\n",
       "       'poor qualiti', 'pop', 'pop chip', 'popchip', 'popcorn', 'pork',\n",
       "       'potato', 'potato chip', 'pound', 'powder', 'power', 'prefer',\n",
       "       'premium', 'pretti', 'pretti good', 'pretzel', 'price',\n",
       "       'price great', 'pricey', 'probabl', 'problem', 'product',\n",
       "       'product good', 'product great', 'protein', 'protein bar', 'puck',\n",
       "       'pumpkin', 'pup', 'puppi', 'puppi love', 'purchas', 'pure',\n",
       "       'purpos', 'qualiti', 'qualiti product', 'quick', 'quick easi',\n",
       "       'quit', 'r', 'raisin', 'raspberri', 'rate', 'raw', 'read', 'real',\n",
       "       'real deal', 'real thing', 'realli', 'realli good', 'realli like',\n",
       "       'realli work', 'reason', 'reason price', 'receiv', 'recip',\n",
       "       'recommend', 'red', 'refresh', 'regular', 'rememb', 'replac',\n",
       "       'result', 'review', 'rice', 'rich', 'ridicul', 'right', 'rip',\n",
       "       'roast', 'robust', 'rock', 'roll', 'run', 's', 's best',\n",
       "       's favorit', 's good', 's ok', 'safe', 'salad', 'salmon', 'salsa',\n",
       "       'salt', 'salti', 'satisfi', 'sauc', 'save', 'saver', 'say', 'sea',\n",
       "       'sea salt', 'season', 'second', 'seed', 'select', 'seller',\n",
       "       'senseo', 'sensit', 'serv', 'servic', 'set', 'shake', 'shampoo',\n",
       "       'ship', 'shop', 'short', 'sick', 'simpl', 'simpli', 'simpli best',\n",
       "       'singl', 'size', 'skin', 'slightli', 'small', 'small dog',\n",
       "       'smaller', 'smart', 'smell', 'smoke', 'smooth', 'smoothi', 'snack',\n",
       "       'snap', 'soda', 'sodium', 'soft', 'solid', 'someth', 'son',\n",
       "       'son love', 'sooth', 'soup', 'sour', 'sourc', 'soy', 'special',\n",
       "       'spice', 'spici', 'splenda', 'squar', 'stale', 'stapl', 'star',\n",
       "       'starbuck', 'start', 'stash', 'stay', 'steak', 'stevia', 'stick',\n",
       "       'stinki', 'stock', 'stomach', 'stop', 'store', 'strang',\n",
       "       'strawberri', 'strong', 'strong coffe', 'stuff', 'style',\n",
       "       'subscrib', 'substitut', 'subtl', 'sugar', 'sugar free', 'summer',\n",
       "       'super', 'superb', 'supplement', 'sure', 'surpris', 'surprisingli',\n",
       "       'surprisingli good', 'sweet', 'sweet potato', 'sweeten', 'switch',\n",
       "       'syrup', 't', 't buy', 't eat', 't like', 't tast', 't wast',\n",
       "       't work', 'tangi', 'tart', 'tast', 'tast better', 'tast coffe',\n",
       "       'tast good', 'tast great', 'tast like', 'tast tea', 'tasteless',\n",
       "       'tasti', 'tasti healthi', 'tasti snack', 'tasti treat', 'tea',\n",
       "       'tea bag', 'tea great', 'teeth', 'terribl', 'terrif', 'test',\n",
       "       'textur', 'thai', 'thank', 'thing', 'think', 'thought', 'time',\n",
       "       'tini', 'toddler', 'tomato', 'tortilla', 'total', 'touch', 'tough',\n",
       "       'toy', 'train', 'train treat', 'travel', 'treat', 'treat dog',\n",
       "       'tree', 'tri', 'true', 'truffl', 'truli', 'tulli', 'tummi', 'tuna',\n",
       "       'turkey', 'u', 'uniqu', 'usa', 'use', 'usual', 'valu', 'vanilla',\n",
       "       'varieti', 've', 've tast', 've tri', 'vegan', 'vegetarian',\n",
       "       'veggi', 'versatil', 'version', 'vet', 'vinegar', 'vitamin', 'w',\n",
       "       'waffl', 'wait', 'wake', 'want', 'warm', 'warn', 'wast',\n",
       "       'wast money', 'watch', 'water', 'way', 'weak', 'weight', 'weird',\n",
       "       'wheat', 'white', 'wife', 'wild', 'wine', 'winner', 'wish', 'wo',\n",
       "       'wo n', 'wonder', 'wonder product', 'wonder tea', 'work',\n",
       "       'work great', 'world', 'worst', 'worth', 'worth money',\n",
       "       'worth price', 'wow', 'wrong', 'ye', 'year', 'year old', 'yuck',\n",
       "       'yum', 'yum yum', 'yummi', 'zero', 'zuke'], dtype=object)"
      ]
     },
     "execution_count": 15,
     "metadata": {},
     "output_type": "execute_result"
    }
   ],
   "source": [
    "# check features\n",
    "features=V.get_feature_names_out()\n",
    "features"
   ]
  },
  {
   "cell_type": "markdown",
   "id": "11bd407a-d522-41bd-bc5e-d665c9cb89eb",
   "metadata": {},
   "source": [
    "Since this is a binary classification problem Here I'll use logictic regression and random forest model to try to fit these data."
   ]
  },
  {
   "cell_type": "markdown",
   "id": "78f671d1-e3d2-4dda-b814-594fb763ed73",
   "metadata": {},
   "source": [
    "## 4. Logistic regression"
   ]
  },
  {
   "cell_type": "markdown",
   "id": "c8cc60f5-0877-4cf6-8016-5fcb2d278cf7",
   "metadata": {},
   "source": [
    "### a) model fitting"
   ]
  },
  {
   "cell_type": "code",
   "execution_count": 16,
   "id": "f927f889-cb44-46f6-bb26-fadf1808f428",
   "metadata": {},
   "outputs": [
    {
     "data": {
      "text/html": [
       "<style>#sk-container-id-2 {color: black;}#sk-container-id-2 pre{padding: 0;}#sk-container-id-2 div.sk-toggleable {background-color: white;}#sk-container-id-2 label.sk-toggleable__label {cursor: pointer;display: block;width: 100%;margin-bottom: 0;padding: 0.3em;box-sizing: border-box;text-align: center;}#sk-container-id-2 label.sk-toggleable__label-arrow:before {content: \"▸\";float: left;margin-right: 0.25em;color: #696969;}#sk-container-id-2 label.sk-toggleable__label-arrow:hover:before {color: black;}#sk-container-id-2 div.sk-estimator:hover label.sk-toggleable__label-arrow:before {color: black;}#sk-container-id-2 div.sk-toggleable__content {max-height: 0;max-width: 0;overflow: hidden;text-align: left;background-color: #f0f8ff;}#sk-container-id-2 div.sk-toggleable__content pre {margin: 0.2em;color: black;border-radius: 0.25em;background-color: #f0f8ff;}#sk-container-id-2 input.sk-toggleable__control:checked~div.sk-toggleable__content {max-height: 200px;max-width: 100%;overflow: auto;}#sk-container-id-2 input.sk-toggleable__control:checked~label.sk-toggleable__label-arrow:before {content: \"▾\";}#sk-container-id-2 div.sk-estimator input.sk-toggleable__control:checked~label.sk-toggleable__label {background-color: #d4ebff;}#sk-container-id-2 div.sk-label input.sk-toggleable__control:checked~label.sk-toggleable__label {background-color: #d4ebff;}#sk-container-id-2 input.sk-hidden--visually {border: 0;clip: rect(1px 1px 1px 1px);clip: rect(1px, 1px, 1px, 1px);height: 1px;margin: -1px;overflow: hidden;padding: 0;position: absolute;width: 1px;}#sk-container-id-2 div.sk-estimator {font-family: monospace;background-color: #f0f8ff;border: 1px dotted black;border-radius: 0.25em;box-sizing: border-box;margin-bottom: 0.5em;}#sk-container-id-2 div.sk-estimator:hover {background-color: #d4ebff;}#sk-container-id-2 div.sk-parallel-item::after {content: \"\";width: 100%;border-bottom: 1px solid gray;flex-grow: 1;}#sk-container-id-2 div.sk-label:hover label.sk-toggleable__label {background-color: #d4ebff;}#sk-container-id-2 div.sk-serial::before {content: \"\";position: absolute;border-left: 1px solid gray;box-sizing: border-box;top: 0;bottom: 0;left: 50%;z-index: 0;}#sk-container-id-2 div.sk-serial {display: flex;flex-direction: column;align-items: center;background-color: white;padding-right: 0.2em;padding-left: 0.2em;position: relative;}#sk-container-id-2 div.sk-item {position: relative;z-index: 1;}#sk-container-id-2 div.sk-parallel {display: flex;align-items: stretch;justify-content: center;background-color: white;position: relative;}#sk-container-id-2 div.sk-item::before, #sk-container-id-2 div.sk-parallel-item::before {content: \"\";position: absolute;border-left: 1px solid gray;box-sizing: border-box;top: 0;bottom: 0;left: 50%;z-index: -1;}#sk-container-id-2 div.sk-parallel-item {display: flex;flex-direction: column;z-index: 1;position: relative;background-color: white;}#sk-container-id-2 div.sk-parallel-item:first-child::after {align-self: flex-end;width: 50%;}#sk-container-id-2 div.sk-parallel-item:last-child::after {align-self: flex-start;width: 50%;}#sk-container-id-2 div.sk-parallel-item:only-child::after {width: 0;}#sk-container-id-2 div.sk-dashed-wrapped {border: 1px dashed gray;margin: 0 0.4em 0.5em 0.4em;box-sizing: border-box;padding-bottom: 0.4em;background-color: white;}#sk-container-id-2 div.sk-label label {font-family: monospace;font-weight: bold;display: inline-block;line-height: 1.2em;}#sk-container-id-2 div.sk-label-container {text-align: center;}#sk-container-id-2 div.sk-container {/* jupyter's `normalize.less` sets `[hidden] { display: none; }` but bootstrap.min.css set `[hidden] { display: none !important; }` so we also need the `!important` here to be able to override the default hidden behavior on the sphinx rendered scikit-learn.org. See: https://github.com/scikit-learn/scikit-learn/issues/21755 */display: inline-block !important;position: relative;}#sk-container-id-2 div.sk-text-repr-fallback {display: none;}</style><div id=\"sk-container-id-2\" class=\"sk-top-container\"><div class=\"sk-text-repr-fallback\"><pre>LogisticRegression(max_iter=454763)</pre><b>In a Jupyter environment, please rerun this cell to show the HTML representation or trust the notebook. <br />On GitHub, the HTML representation is unable to render, please try loading this page with nbviewer.org.</b></div><div class=\"sk-container\" hidden><div class=\"sk-item\"><div class=\"sk-estimator sk-toggleable\"><input class=\"sk-toggleable__control sk-hidden--visually\" id=\"sk-estimator-id-2\" type=\"checkbox\" checked><label for=\"sk-estimator-id-2\" class=\"sk-toggleable__label sk-toggleable__label-arrow\">LogisticRegression</label><div class=\"sk-toggleable__content\"><pre>LogisticRegression(max_iter=454763)</pre></div></div></div></div></div>"
      ],
      "text/plain": [
       "LogisticRegression(max_iter=454763)"
      ]
     },
     "execution_count": 16,
     "metadata": {},
     "output_type": "execute_result"
    }
   ],
   "source": [
    "# logistic regression fitting\n",
    "from sklearn.linear_model import LogisticRegression\n",
    "model=LogisticRegression(max_iter=len(X_train)) # I have to set the max_iter here because otherwise it will stop by itself\n",
    "model.fit(one_hot_encoded_matrix,Y_train)"
   ]
  },
  {
   "cell_type": "markdown",
   "id": "2b814732-0ea1-4892-a66f-02fbdb7a8e48",
   "metadata": {},
   "source": [
    "### b) Visualize feature importance\n",
    "Here I am only going to visualize some of the most important features since I have 1000 features in my model."
   ]
  },
  {
   "cell_type": "code",
   "execution_count": 17,
   "id": "ef7ea6ca-4033-4b7e-9377-ddc0637742be",
   "metadata": {},
   "outputs": [
    {
     "data": {
      "text/plain": [
       "<Axes: ylabel='Feature'>"
      ]
     },
     "execution_count": 17,
     "metadata": {},
     "output_type": "execute_result"
    },
    {
     "data": {
      "image/png": "[encoded data removed]",
      "text/plain": [
       "<Figure size 1000x2000 with 1 Axes>"
      ]
     },
     "metadata": {},
     "output_type": "display_data"
    }
   ],
   "source": [
    "# visualize select feature importance\n",
    "coefficients = model.coef_[0]\n",
    "feature_importance = pd.DataFrame({'Feature':features,'Importance':np.abs(coefficients)})\n",
    "feature_importance = feature_importance.sort_values('Importance',ascending=True)[::20]\n",
    "feature_importance.plot(x='Feature',y='Importance',kind='barh',figsize=(10,20),color='green',grid=True)"
   ]
  },
  {
   "cell_type": "markdown",
   "id": "92285022-82f8-4490-b8a1-517060130723",
   "metadata": {},
   "source": [
    "### c) Testing\n",
    "In order to test the model, I will have to first convert all test data into vectors and then plug them into the model. "
   ]
  },
  {
   "cell_type": "code",
   "execution_count": 18,
   "id": "7c92f678-25f3-4845-9d43-4330a99cd6b6",
   "metadata": {},
   "outputs": [
    {
     "data": {
      "text/plain": [
       "array([[0., 0., 0., ..., 0., 0., 0.],\n",
       "       [0., 0., 0., ..., 0., 0., 0.],\n",
       "       [0., 0., 0., ..., 0., 0., 0.],\n",
       "       ...,\n",
       "       [0., 0., 0., ..., 0., 0., 0.],\n",
       "       [0., 0., 0., ..., 0., 0., 0.],\n",
       "       [0., 0., 0., ..., 0., 0., 0.]])"
      ]
     },
     "execution_count": 18,
     "metadata": {},
     "output_type": "execute_result"
    }
   ],
   "source": [
    "# define a function that converts strings to vector inputs\n",
    "def Str2Vec(data):\n",
    "    tokens=tokenize(data) # tokenizing\n",
    "    tokens_wo_num_pun_stops=remove_num_pun_stops(tokens) # stopwords, punctuation and number removal\n",
    "    stems = stem(tokens_wo_num_pun_stops) # stemming\n",
    "    return V.transform(stems).toarray() # vectorizing\n",
    "\n",
    "test_input=Str2Vec(X_test) # this will transform test input into vectors\n",
    "test_input"
   ]
  },
  {
   "cell_type": "markdown",
   "id": "b7f30195-68b4-467b-ada8-907c4bafc02a",
   "metadata": {},
   "source": [
    "### d) Evaluation\n",
    "Here I'll use f1-score and accuracy score to evaluate this model."
   ]
  },
  {
   "cell_type": "code",
   "execution_count": 19,
   "id": "005eb910-86a2-4b4a-82fc-0e00e9a4a37c",
   "metadata": {},
   "outputs": [
    {
     "name": "stdout",
     "output_type": "stream",
     "text": [
      "              precision    recall  f1-score   support\n",
      "\n",
      "           0       0.76      0.45      0.56     24857\n",
      "           1       0.86      0.96      0.91     88834\n",
      "\n",
      "    accuracy                           0.85    113691\n",
      "   macro avg       0.81      0.70      0.74    113691\n",
      "weighted avg       0.84      0.85      0.83    113691\n",
      "\n"
     ]
    }
   ],
   "source": [
    "# classification report\n",
    "from sklearn.metrics import classification_report\n",
    "print(classification_report(Y_test, model.predict(test_input)))"
   ]
  },
  {
   "cell_type": "markdown",
   "id": "a9f47793-071e-465c-80b6-679097c6f92d",
   "metadata": {},
   "source": [
    "With F1-score of 0.91 and accuracy score of 0.85, I think this logistic model is somewhat ok for analysis. But I would try random forest model as well just for comparison."
   ]
  },
  {
   "cell_type": "markdown",
   "id": "ae280d60-d47a-43dd-b88d-609ddbf163bf",
   "metadata": {},
   "source": [
    "## 5. Random Forest\n",
    "### a) model fitting"
   ]
  },
  {
   "cell_type": "code",
   "execution_count": 20,
   "id": "846251b9-5d15-41d6-94b7-594ad973f66f",
   "metadata": {},
   "outputs": [],
   "source": [
    "from sklearn.ensemble import RandomForestClassifier"
   ]
  },
  {
   "cell_type": "markdown",
   "id": "34c75305-0372-4dd9-b766-3c7d40c4068a",
   "metadata": {},
   "source": [
    "In order to run Random Forest Fitment, I would scale down the sample size a little bit, otherwise it won't go through."
   ]
  },
  {
   "cell_type": "code",
   "execution_count": 21,
   "id": "232ca426-72dd-46c0-bab6-9fa7acdde50e",
   "metadata": {},
   "outputs": [],
   "source": [
    "X_train2,X_test2,Y_train2,Y_test2=train_test_split(df['Summary'],df['Sentiment'],train_size=0.1)"
   ]
  },
  {
   "cell_type": "code",
   "execution_count": 22,
   "id": "eb0724fb-46fd-4f1b-a934-b93890e5ca45",
   "metadata": {},
   "outputs": [],
   "source": [
    "train_vector=Str2Vec(X_train2)"
   ]
  },
  {
   "cell_type": "code",
   "execution_count": 23,
   "id": "f1e0dc07-40f2-4556-8f2f-b4e5cecef06f",
   "metadata": {},
   "outputs": [
    {
     "data": {
      "text/html": [
       "<style>#sk-container-id-3 {color: black;}#sk-container-id-3 pre{padding: 0;}#sk-container-id-3 div.sk-toggleable {background-color: white;}#sk-container-id-3 label.sk-toggleable__label {cursor: pointer;display: block;width: 100%;margin-bottom: 0;padding: 0.3em;box-sizing: border-box;text-align: center;}#sk-container-id-3 label.sk-toggleable__label-arrow:before {content: \"▸\";float: left;margin-right: 0.25em;color: #696969;}#sk-container-id-3 label.sk-toggleable__label-arrow:hover:before {color: black;}#sk-container-id-3 div.sk-estimator:hover label.sk-toggleable__label-arrow:before {color: black;}#sk-container-id-3 div.sk-toggleable__content {max-height: 0;max-width: 0;overflow: hidden;text-align: left;background-color: #f0f8ff;}#sk-container-id-3 div.sk-toggleable__content pre {margin: 0.2em;color: black;border-radius: 0.25em;background-color: #f0f8ff;}#sk-container-id-3 input.sk-toggleable__control:checked~div.sk-toggleable__content {max-height: 200px;max-width: 100%;overflow: auto;}#sk-container-id-3 input.sk-toggleable__control:checked~label.sk-toggleable__label-arrow:before {content: \"▾\";}#sk-container-id-3 div.sk-estimator input.sk-toggleable__control:checked~label.sk-toggleable__label {background-color: #d4ebff;}#sk-container-id-3 div.sk-label input.sk-toggleable__control:checked~label.sk-toggleable__label {background-color: #d4ebff;}#sk-container-id-3 input.sk-hidden--visually {border: 0;clip: rect(1px 1px 1px 1px);clip: rect(1px, 1px, 1px, 1px);height: 1px;margin: -1px;overflow: hidden;padding: 0;position: absolute;width: 1px;}#sk-container-id-3 div.sk-estimator {font-family: monospace;background-color: #f0f8ff;border: 1px dotted black;border-radius: 0.25em;box-sizing: border-box;margin-bottom: 0.5em;}#sk-container-id-3 div.sk-estimator:hover {background-color: #d4ebff;}#sk-container-id-3 div.sk-parallel-item::after {content: \"\";width: 100%;border-bottom: 1px solid gray;flex-grow: 1;}#sk-container-id-3 div.sk-label:hover label.sk-toggleable__label {background-color: #d4ebff;}#sk-container-id-3 div.sk-serial::before {content: \"\";position: absolute;border-left: 1px solid gray;box-sizing: border-box;top: 0;bottom: 0;left: 50%;z-index: 0;}#sk-container-id-3 div.sk-serial {display: flex;flex-direction: column;align-items: center;background-color: white;padding-right: 0.2em;padding-left: 0.2em;position: relative;}#sk-container-id-3 div.sk-item {position: relative;z-index: 1;}#sk-container-id-3 div.sk-parallel {display: flex;align-items: stretch;justify-content: center;background-color: white;position: relative;}#sk-container-id-3 div.sk-item::before, #sk-container-id-3 div.sk-parallel-item::before {content: \"\";position: absolute;border-left: 1px solid gray;box-sizing: border-box;top: 0;bottom: 0;left: 50%;z-index: -1;}#sk-container-id-3 div.sk-parallel-item {display: flex;flex-direction: column;z-index: 1;position: relative;background-color: white;}#sk-container-id-3 div.sk-parallel-item:first-child::after {align-self: flex-end;width: 50%;}#sk-container-id-3 div.sk-parallel-item:last-child::after {align-self: flex-start;width: 50%;}#sk-container-id-3 div.sk-parallel-item:only-child::after {width: 0;}#sk-container-id-3 div.sk-dashed-wrapped {border: 1px dashed gray;margin: 0 0.4em 0.5em 0.4em;box-sizing: border-box;padding-bottom: 0.4em;background-color: white;}#sk-container-id-3 div.sk-label label {font-family: monospace;font-weight: bold;display: inline-block;line-height: 1.2em;}#sk-container-id-3 div.sk-label-container {text-align: center;}#sk-container-id-3 div.sk-container {/* jupyter's `normalize.less` sets `[hidden] { display: none; }` but bootstrap.min.css set `[hidden] { display: none !important; }` so we also need the `!important` here to be able to override the default hidden behavior on the sphinx rendered scikit-learn.org. See: https://github.com/scikit-learn/scikit-learn/issues/21755 */display: inline-block !important;position: relative;}#sk-container-id-3 div.sk-text-repr-fallback {display: none;}</style><div id=\"sk-container-id-3\" class=\"sk-top-container\"><div class=\"sk-text-repr-fallback\"><pre>RandomForestClassifier()</pre><b>In a Jupyter environment, please rerun this cell to show the HTML representation or trust the notebook. <br />On GitHub, the HTML representation is unable to render, please try loading this page with nbviewer.org.</b></div><div class=\"sk-container\" hidden><div class=\"sk-item\"><div class=\"sk-estimator sk-toggleable\"><input class=\"sk-toggleable__control sk-hidden--visually\" id=\"sk-estimator-id-3\" type=\"checkbox\" checked><label for=\"sk-estimator-id-3\" class=\"sk-toggleable__label sk-toggleable__label-arrow\">RandomForestClassifier</label><div class=\"sk-toggleable__content\"><pre>RandomForestClassifier()</pre></div></div></div></div></div>"
      ],
      "text/plain": [
       "RandomForestClassifier()"
      ]
     },
     "execution_count": 23,
     "metadata": {},
     "output_type": "execute_result"
    }
   ],
   "source": [
    "model2=RandomForestClassifier()\n",
    "model2.fit(train_vector,Y_train2)"
   ]
  },
  {
   "cell_type": "markdown",
   "id": "0beaf2d5-1717-48fa-9255-939a22d68061",
   "metadata": {},
   "source": [
    "### b) evaluation\n",
    "Same evaluation method is applied here."
   ]
  },
  {
   "cell_type": "code",
   "execution_count": 25,
   "id": "2c17fbb7-845b-4578-b54c-11a2e139edec",
   "metadata": {},
   "outputs": [],
   "source": [
    "# input vectorization\n",
    "test_vector=Str2Vec(X_test2)"
   ]
  },
  {
   "cell_type": "code",
   "execution_count": 26,
   "id": "a6a947c6-c260-4711-bfd2-0375e6fc8cb4",
   "metadata": {},
   "outputs": [
    {
     "name": "stdout",
     "output_type": "stream",
     "text": [
      "              precision    recall  f1-score   support\n",
      "\n",
      "           0       0.74      0.50      0.60    112179\n",
      "           1       0.87      0.95      0.91    399430\n",
      "\n",
      "    accuracy                           0.85    511609\n",
      "   macro avg       0.81      0.73      0.75    511609\n",
      "weighted avg       0.84      0.85      0.84    511609\n",
      "\n"
     ]
    }
   ],
   "source": [
    "# classification report\n",
    "print(classification_report(Y_test2,model2.predict(test_vector)))"
   ]
  },
  {
   "cell_type": "markdown",
   "id": "f5c71a3a-c05d-430c-8dca-e7632f5a3fc0",
   "metadata": {},
   "source": [
    "With accuracy score of 0.85 and F1 score of 0.91, Random Forest model works just as accurate as linear regression model here."
   ]
  },
  {
   "cell_type": "markdown",
   "id": "7a71cc63-a5b1-44ac-a40d-67cd5e488d41",
   "metadata": {},
   "source": [
    "## 6. Save Model and Restore\n",
    "By saving model locally, I don't need to train my model everytime when I want to use it."
   ]
  },
  {
   "cell_type": "code",
   "execution_count": 27,
   "id": "9be31acb-f864-40ec-ad9c-a707605bb7f3",
   "metadata": {},
   "outputs": [],
   "source": [
    "import joblib"
   ]
  },
  {
   "cell_type": "code",
   "execution_count": 28,
   "id": "98eff709-3283-42ae-9d9f-05c5f6ef15fa",
   "metadata": {},
   "outputs": [
    {
     "data": {
      "text/plain": [
       "['LR_model']"
      ]
     },
     "execution_count": 28,
     "metadata": {},
     "output_type": "execute_result"
    }
   ],
   "source": [
    "joblib.dump(model,'LR_model') # This is to save the logistic regression model"
   ]
  },
  {
   "cell_type": "code",
   "execution_count": 29,
   "id": "9f8c618c-7e62-4915-9058-493c214ab234",
   "metadata": {},
   "outputs": [
    {
     "data": {
      "text/plain": [
       "['RF_model']"
      ]
     },
     "execution_count": 29,
     "metadata": {},
     "output_type": "execute_result"
    }
   ],
   "source": [
    "joblib.dump(model2,'RF_model') # This is to save the Random Forest model"
   ]
  },
  {
   "cell_type": "code",
   "execution_count": 30,
   "id": "6e388be9-b405-4f89-85dd-873c32071f49",
   "metadata": {},
   "outputs": [],
   "source": [
    "Logistic_Regression=joblib.load('LR_model') # This is to load the logistic regression model"
   ]
  },
  {
   "cell_type": "code",
   "execution_count": 31,
   "id": "c0c115d4-a9b7-4a6f-a940-05bc8a465c6a",
   "metadata": {},
   "outputs": [],
   "source": [
    "Random_Forest=joblib.load('RF_model')# This is to load the random forest model"
   ]
  },
  {
   "cell_type": "markdown",
   "id": "5790a2f0-c58c-417d-9ced-162ecd7665e8",
   "metadata": {},
   "source": [
    "## 7. Sentiment Function\n",
    "Based on all the analysis above, this function will take any string and return a sentiment prediction."
   ]
  },
  {
   "cell_type": "code",
   "execution_count": 32,
   "id": "c3b392c1-765d-4591-a1d3-7c81fce396d2",
   "metadata": {},
   "outputs": [],
   "source": [
    "# Now let's try to implement all above into one single function with logistic regression\n",
    "# This function will take any string and return a sentiment prediction\n",
    "\n",
    "import string\n",
    "punctuation=string.punctuation\n",
    "stopwords=nltk.corpus.stopwords.words('english')\n",
    "\n",
    "def Sentiment(str):\n",
    "    str=re.sub(r'[0-9]+', '', str) # remove numbers\n",
    "    str=nltk.word_tokenize(str) # tokenize string\n",
    "    # punctuation, numbers and stopwords removal\n",
    "    str=[w.lower() for w in str if w.lower() not in punctuation and w.lower() not in stopwords]\n",
    "    # stemming\n",
    "    stems=' '.join([ps.stem(w) for w in str])\n",
    "    one_hot_codes=V.transform(np.array([stems])).toarray()\n",
    "    sentiment=Random_Forest.predict(one_hot_codes) # Note that here I use random forest model to predict the sentiment result\n",
    "    return 'positive' if sentiment==1 else 'negative'"
   ]
  },
  {
   "cell_type": "code",
   "execution_count": 33,
   "id": "2771c82e-c78b-47bd-b9dc-a694503a0f9d",
   "metadata": {},
   "outputs": [
    {
     "data": {
      "text/plain": [
       "'positive'"
      ]
     },
     "execution_count": 33,
     "metadata": {},
     "output_type": "execute_result"
    }
   ],
   "source": [
    "#let's try the model\n",
    "Sentiment('This is great!')"
   ]
  },
  {
   "cell_type": "markdown",
   "id": "a634b63b-40f6-499d-bb8b-0ce1f13c487b",
   "metadata": {},
   "source": [
    "BAM!"
   ]
  },
  {
   "cell_type": "code",
   "execution_count": 34,
   "id": "8817d06d-d3dd-4668-9866-f7addfcc964e",
   "metadata": {},
   "outputs": [
    {
     "data": {
      "text/plain": [
       "'negative'"
      ]
     },
     "execution_count": 34,
     "metadata": {},
     "output_type": "execute_result"
    }
   ],
   "source": [
    "Sentiment('This is disgusting!')"
   ]
  },
  {
   "cell_type": "code",
   "execution_count": 35,
   "id": "4a58c88c-b8a7-4bc9-b1fb-1eb30bc11595",
   "metadata": {},
   "outputs": [
    {
     "data": {
      "text/plain": [
       "'negative'"
      ]
     },
     "execution_count": 35,
     "metadata": {},
     "output_type": "execute_result"
    }
   ],
   "source": [
    "Sentiment('i am disappointed in myself')"
   ]
  },
  {
   "cell_type": "code",
   "execution_count": 36,
   "id": "d8ee19dd-9a34-4aa1-9910-86b4d2ea4190",
   "metadata": {},
   "outputs": [
    {
     "data": {
      "text/plain": [
       "'positive'"
      ]
     },
     "execution_count": 36,
     "metadata": {},
     "output_type": "execute_result"
    }
   ],
   "source": [
    "Sentiment('but i can do this')"
   ]
  },
  {
   "cell_type": "markdown",
   "id": "2a470290-5a8b-40fc-96c0-cefd55ef1ff8",
   "metadata": {},
   "source": [
    "## 8. Final Thought\n",
    "Despite the fact that my laptop cannot fit more models other than Random Forest and Logistic Regression, I think they both did a fairly ok job in terms of prediction.\n",
    "\n",
    "In terms of model restoration, simply import joblib and dump the model in joblib file. That way when you use the model, you don't have to train it all over again.\n",
    "\n",
    "I think the original dataset might be a little biased towards positive since this is a fine food dataset and people are generally more inclined to give high scores to justify their purchase. If the review dataset were from a more general category, the model should be more accurate.\n",
    "\n",
    "In terms of whether to promote the video commenting to users, I think it's a clear yes. We can even dive deeper to integrate real-time audio-to-caption converter so that as user records the video, the sentiment prediction will automatically pop up. If wrong, we also allow users to change their review ratings manually.\n",
    "\n",
    "By doing so, language sentiment model will be more and more sensitive and accurate, and maybe one day this could be integrated in AWS as a part of service too."
   ]
  }
 ],
 "metadata": {
  "kernelspec": {
   "display_name": "Python 3 (ipykernel)",
   "language": "python",
   "name": "python3"
  },
  "language_info": {
   "codemirror_mode": {
    "name": "ipython",
    "version": 3
   },
   "file_extension": ".py",
   "mimetype": "text/x-python",
   "name": "python",
   "nbconvert_exporter": "python",
   "pygments_lexer": "ipython3",
   "version": "3.11.4"
  }
 },
 "nbformat": 4,
 "nbformat_minor": 5
}
