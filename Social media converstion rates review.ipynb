{
 "cells": [
  {
   "cell_type": "markdown",
   "id": "118e8291-84b2-4403-a7ef-ca21fd80d547",
   "metadata": {},
   "source": [
    "# Conversion Rate Analysis\n",
    "The purpose of this analysis is to find out, if we were to start a campaign, which user group would most likely to return a good result.\n",
    "\n",
    "This is a binary classification analysis, so I will go ahead and start with user data exploration, user labeling and basic visualization, then I'll use two different models to fit the data and evaluate the model with test data.\n",
    "\n",
    "Finally I'll review the model and share my suggestions and conclusions."
   ]
  },
  {
   "cell_type": "code",
   "execution_count": 1,
   "id": "095875f4-0517-48a0-94ce-4ed3dd18b144",
   "metadata": {},
   "outputs": [],
   "source": [
    "import numpy as np\n",
    "import pandas as pd\n",
    "import matplotlib.pyplot as plt\n",
    "import seaborn as sns\n",
    "plt.style.use('ggplot')"
   ]
  },
  {
   "cell_type": "markdown",
   "id": "80799aa6-f780-45c7-b73e-efb9df4fa29c",
   "metadata": {},
   "source": [
    "## 1. Import, read and understand data"
   ]
  },
  {
   "cell_type": "code",
   "execution_count": 2,
   "id": "87c0ba58-dff8-4e61-a282-3cd18942116e",
   "metadata": {},
   "outputs": [
    {
     "data": {
      "text/html": [
       "<div>\n",
       "<style scoped>\n",
       "    .dataframe tbody tr th:only-of-type {\n",
       "        vertical-align: middle;\n",
       "    }\n",
       "\n",
       "    .dataframe tbody tr th {\n",
       "        vertical-align: top;\n",
       "    }\n",
       "\n",
       "    .dataframe thead th {\n",
       "        text-align: right;\n",
       "    }\n",
       "</style>\n",
       "<table border=\"1\" class=\"dataframe\">\n",
       "  <thead>\n",
       "    <tr style=\"text-align: right;\">\n",
       "      <th></th>\n",
       "      <th>country</th>\n",
       "      <th>age</th>\n",
       "      <th>new_user</th>\n",
       "      <th>source</th>\n",
       "      <th>total_pages_visited</th>\n",
       "      <th>converted</th>\n",
       "    </tr>\n",
       "  </thead>\n",
       "  <tbody>\n",
       "    <tr>\n",
       "      <th>0</th>\n",
       "      <td>UK</td>\n",
       "      <td>25</td>\n",
       "      <td>1</td>\n",
       "      <td>Ads</td>\n",
       "      <td>1</td>\n",
       "      <td>0</td>\n",
       "    </tr>\n",
       "    <tr>\n",
       "      <th>1</th>\n",
       "      <td>US</td>\n",
       "      <td>23</td>\n",
       "      <td>1</td>\n",
       "      <td>Seo</td>\n",
       "      <td>5</td>\n",
       "      <td>0</td>\n",
       "    </tr>\n",
       "    <tr>\n",
       "      <th>2</th>\n",
       "      <td>US</td>\n",
       "      <td>28</td>\n",
       "      <td>1</td>\n",
       "      <td>Seo</td>\n",
       "      <td>4</td>\n",
       "      <td>0</td>\n",
       "    </tr>\n",
       "    <tr>\n",
       "      <th>3</th>\n",
       "      <td>China</td>\n",
       "      <td>39</td>\n",
       "      <td>1</td>\n",
       "      <td>Seo</td>\n",
       "      <td>5</td>\n",
       "      <td>0</td>\n",
       "    </tr>\n",
       "    <tr>\n",
       "      <th>4</th>\n",
       "      <td>US</td>\n",
       "      <td>30</td>\n",
       "      <td>1</td>\n",
       "      <td>Seo</td>\n",
       "      <td>6</td>\n",
       "      <td>0</td>\n",
       "    </tr>\n",
       "    <tr>\n",
       "      <th>...</th>\n",
       "      <td>...</td>\n",
       "      <td>...</td>\n",
       "      <td>...</td>\n",
       "      <td>...</td>\n",
       "      <td>...</td>\n",
       "      <td>...</td>\n",
       "    </tr>\n",
       "    <tr>\n",
       "      <th>316195</th>\n",
       "      <td>US</td>\n",
       "      <td>26</td>\n",
       "      <td>1</td>\n",
       "      <td>Ads</td>\n",
       "      <td>9</td>\n",
       "      <td>0</td>\n",
       "    </tr>\n",
       "    <tr>\n",
       "      <th>316196</th>\n",
       "      <td>US</td>\n",
       "      <td>27</td>\n",
       "      <td>1</td>\n",
       "      <td>Direct</td>\n",
       "      <td>6</td>\n",
       "      <td>0</td>\n",
       "    </tr>\n",
       "    <tr>\n",
       "      <th>316197</th>\n",
       "      <td>China</td>\n",
       "      <td>25</td>\n",
       "      <td>0</td>\n",
       "      <td>Ads</td>\n",
       "      <td>4</td>\n",
       "      <td>0</td>\n",
       "    </tr>\n",
       "    <tr>\n",
       "      <th>316198</th>\n",
       "      <td>US</td>\n",
       "      <td>22</td>\n",
       "      <td>0</td>\n",
       "      <td>Seo</td>\n",
       "      <td>4</td>\n",
       "      <td>0</td>\n",
       "    </tr>\n",
       "    <tr>\n",
       "      <th>316199</th>\n",
       "      <td>UK</td>\n",
       "      <td>24</td>\n",
       "      <td>0</td>\n",
       "      <td>Ads</td>\n",
       "      <td>4</td>\n",
       "      <td>0</td>\n",
       "    </tr>\n",
       "  </tbody>\n",
       "</table>\n",
       "<p>316200 rows × 6 columns</p>\n",
       "</div>"
      ],
      "text/plain": [
       "       country  age  new_user  source  total_pages_visited  converted\n",
       "0           UK   25         1     Ads                    1          0\n",
       "1           US   23         1     Seo                    5          0\n",
       "2           US   28         1     Seo                    4          0\n",
       "3        China   39         1     Seo                    5          0\n",
       "4           US   30         1     Seo                    6          0\n",
       "...        ...  ...       ...     ...                  ...        ...\n",
       "316195      US   26         1     Ads                    9          0\n",
       "316196      US   27         1  Direct                    6          0\n",
       "316197   China   25         0     Ads                    4          0\n",
       "316198      US   22         0     Seo                    4          0\n",
       "316199      UK   24         0     Ads                    4          0\n",
       "\n",
       "[316200 rows x 6 columns]"
      ]
     },
     "execution_count": 2,
     "metadata": {},
     "output_type": "execute_result"
    }
   ],
   "source": [
    "df=pd.read_csv('conversion_project.csv')\n",
    "df"
   ]
  },
  {
   "cell_type": "code",
   "execution_count": 3,
   "id": "656069a9-bd15-4b90-bca0-d5ccffd21018",
   "metadata": {},
   "outputs": [
    {
     "data": {
      "text/plain": [
       "country                object\n",
       "age                     int64\n",
       "new_user                int64\n",
       "source                 object\n",
       "total_pages_visited     int64\n",
       "converted               int64\n",
       "dtype: object"
      ]
     },
     "execution_count": 3,
     "metadata": {},
     "output_type": "execute_result"
    }
   ],
   "source": [
    "df.dtypes"
   ]
  },
  {
   "cell_type": "code",
   "execution_count": 4,
   "id": "119b0677-b194-4a90-b666-85ad42be5c9a",
   "metadata": {},
   "outputs": [
    {
     "data": {
      "text/html": [
       "<div>\n",
       "<style scoped>\n",
       "    .dataframe tbody tr th:only-of-type {\n",
       "        vertical-align: middle;\n",
       "    }\n",
       "\n",
       "    .dataframe tbody tr th {\n",
       "        vertical-align: top;\n",
       "    }\n",
       "\n",
       "    .dataframe thead th {\n",
       "        text-align: right;\n",
       "    }\n",
       "</style>\n",
       "<table border=\"1\" class=\"dataframe\">\n",
       "  <thead>\n",
       "    <tr style=\"text-align: right;\">\n",
       "      <th></th>\n",
       "      <th>age</th>\n",
       "      <th>new_user</th>\n",
       "      <th>total_pages_visited</th>\n",
       "      <th>converted</th>\n",
       "    </tr>\n",
       "  </thead>\n",
       "  <tbody>\n",
       "    <tr>\n",
       "      <th>count</th>\n",
       "      <td>316200.000000</td>\n",
       "      <td>316200.000000</td>\n",
       "      <td>316200.000000</td>\n",
       "      <td>316200.000000</td>\n",
       "    </tr>\n",
       "    <tr>\n",
       "      <th>mean</th>\n",
       "      <td>30.569858</td>\n",
       "      <td>0.685465</td>\n",
       "      <td>4.872966</td>\n",
       "      <td>0.032258</td>\n",
       "    </tr>\n",
       "    <tr>\n",
       "      <th>std</th>\n",
       "      <td>8.271802</td>\n",
       "      <td>0.464331</td>\n",
       "      <td>3.341104</td>\n",
       "      <td>0.176685</td>\n",
       "    </tr>\n",
       "    <tr>\n",
       "      <th>min</th>\n",
       "      <td>17.000000</td>\n",
       "      <td>0.000000</td>\n",
       "      <td>1.000000</td>\n",
       "      <td>0.000000</td>\n",
       "    </tr>\n",
       "    <tr>\n",
       "      <th>25%</th>\n",
       "      <td>24.000000</td>\n",
       "      <td>0.000000</td>\n",
       "      <td>2.000000</td>\n",
       "      <td>0.000000</td>\n",
       "    </tr>\n",
       "    <tr>\n",
       "      <th>50%</th>\n",
       "      <td>30.000000</td>\n",
       "      <td>1.000000</td>\n",
       "      <td>4.000000</td>\n",
       "      <td>0.000000</td>\n",
       "    </tr>\n",
       "    <tr>\n",
       "      <th>75%</th>\n",
       "      <td>36.000000</td>\n",
       "      <td>1.000000</td>\n",
       "      <td>7.000000</td>\n",
       "      <td>0.000000</td>\n",
       "    </tr>\n",
       "    <tr>\n",
       "      <th>max</th>\n",
       "      <td>123.000000</td>\n",
       "      <td>1.000000</td>\n",
       "      <td>29.000000</td>\n",
       "      <td>1.000000</td>\n",
       "    </tr>\n",
       "  </tbody>\n",
       "</table>\n",
       "</div>"
      ],
      "text/plain": [
       "                 age       new_user  total_pages_visited      converted\n",
       "count  316200.000000  316200.000000        316200.000000  316200.000000\n",
       "mean       30.569858       0.685465             4.872966       0.032258\n",
       "std         8.271802       0.464331             3.341104       0.176685\n",
       "min        17.000000       0.000000             1.000000       0.000000\n",
       "25%        24.000000       0.000000             2.000000       0.000000\n",
       "50%        30.000000       1.000000             4.000000       0.000000\n",
       "75%        36.000000       1.000000             7.000000       0.000000\n",
       "max       123.000000       1.000000            29.000000       1.000000"
      ]
     },
     "execution_count": 4,
     "metadata": {},
     "output_type": "execute_result"
    }
   ],
   "source": [
    "df.describe()"
   ]
  },
  {
   "cell_type": "markdown",
   "id": "4ebcc06a-0108-40c4-83c8-212676f7d255",
   "metadata": {},
   "source": [
    "Here we have an 123-year-old person which I believe should not both physically and digitally be here. So I'm going to check all the data that does not look normal to me."
   ]
  },
  {
   "cell_type": "code",
   "execution_count": 5,
   "id": "36b68a11-ffe4-47e4-af1d-1a9258f27147",
   "metadata": {},
   "outputs": [
    {
     "data": {
      "text/plain": [
       "90928     123\n",
       "295581    111\n",
       "Name: age, dtype: int64"
      ]
     },
     "execution_count": 5,
     "metadata": {},
     "output_type": "execute_result"
    }
   ],
   "source": [
    "df[df['age']>80].age"
   ]
  },
  {
   "cell_type": "markdown",
   "id": "98e6c36a-1fff-4a0d-9d65-3a06dd5c8b33",
   "metadata": {},
   "source": [
    "There are two persons older than 100 years old, which should be long gone but for some reason still hanging around. I will put them to sleep later in data cleaning process."
   ]
  },
  {
   "cell_type": "code",
   "execution_count": 6,
   "id": "d5c3f8a3-0929-423f-a240-6cf9b294a697",
   "metadata": {},
   "outputs": [
    {
     "data": {
      "text/html": [
       "<div>\n",
       "<style scoped>\n",
       "    .dataframe tbody tr th:only-of-type {\n",
       "        vertical-align: middle;\n",
       "    }\n",
       "\n",
       "    .dataframe tbody tr th {\n",
       "        vertical-align: top;\n",
       "    }\n",
       "\n",
       "    .dataframe thead th {\n",
       "        text-align: right;\n",
       "    }\n",
       "</style>\n",
       "<table border=\"1\" class=\"dataframe\">\n",
       "  <thead>\n",
       "    <tr style=\"text-align: right;\">\n",
       "      <th></th>\n",
       "      <th>country</th>\n",
       "      <th>age</th>\n",
       "      <th>new_user</th>\n",
       "      <th>source</th>\n",
       "      <th>total_pages_visited</th>\n",
       "      <th>converted</th>\n",
       "    </tr>\n",
       "  </thead>\n",
       "  <tbody>\n",
       "  </tbody>\n",
       "</table>\n",
       "</div>"
      ],
      "text/plain": [
       "Empty DataFrame\n",
       "Columns: [country, age, new_user, source, total_pages_visited, converted]\n",
       "Index: []"
      ]
     },
     "execution_count": 6,
     "metadata": {},
     "output_type": "execute_result"
    }
   ],
   "source": [
    "df[(df['new_user']!=1) & (df['new_user']!=0)]"
   ]
  },
  {
   "cell_type": "code",
   "execution_count": 7,
   "id": "08669061-df05-4370-96a0-79ed25e62911",
   "metadata": {},
   "outputs": [
    {
     "data": {
      "text/html": [
       "<div>\n",
       "<style scoped>\n",
       "    .dataframe tbody tr th:only-of-type {\n",
       "        vertical-align: middle;\n",
       "    }\n",
       "\n",
       "    .dataframe tbody tr th {\n",
       "        vertical-align: top;\n",
       "    }\n",
       "\n",
       "    .dataframe thead th {\n",
       "        text-align: right;\n",
       "    }\n",
       "</style>\n",
       "<table border=\"1\" class=\"dataframe\">\n",
       "  <thead>\n",
       "    <tr style=\"text-align: right;\">\n",
       "      <th></th>\n",
       "      <th>country</th>\n",
       "      <th>age</th>\n",
       "      <th>new_user</th>\n",
       "      <th>source</th>\n",
       "      <th>total_pages_visited</th>\n",
       "      <th>converted</th>\n",
       "    </tr>\n",
       "  </thead>\n",
       "  <tbody>\n",
       "  </tbody>\n",
       "</table>\n",
       "</div>"
      ],
      "text/plain": [
       "Empty DataFrame\n",
       "Columns: [country, age, new_user, source, total_pages_visited, converted]\n",
       "Index: []"
      ]
     },
     "execution_count": 7,
     "metadata": {},
     "output_type": "execute_result"
    }
   ],
   "source": [
    "df[(df['converted']!=0) & (df['converted']!=1)]"
   ]
  },
  {
   "cell_type": "code",
   "execution_count": 8,
   "id": "e1de783b-3efc-418d-9b64-d619f3267586",
   "metadata": {},
   "outputs": [
    {
     "data": {
      "text/plain": [
       "country                0\n",
       "age                    0\n",
       "new_user               0\n",
       "source                 0\n",
       "total_pages_visited    0\n",
       "converted              0\n",
       "dtype: int64"
      ]
     },
     "execution_count": 8,
     "metadata": {},
     "output_type": "execute_result"
    }
   ],
   "source": [
    "df.isnull().sum()"
   ]
  },
  {
   "cell_type": "markdown",
   "id": "8fb93bbb-0b92-43cd-9cc9-c799409bd166",
   "metadata": {},
   "source": [
    "All other data seems fine. So I'll just go ahead and put the two oldies to sleep."
   ]
  },
  {
   "cell_type": "code",
   "execution_count": 9,
   "id": "8bbd5ec3-143d-4854-8184-8b0887974e27",
   "metadata": {},
   "outputs": [
    {
     "data": {
      "text/plain": [
       "(316198, 6)"
      ]
     },
     "execution_count": 9,
     "metadata": {},
     "output_type": "execute_result"
    }
   ],
   "source": [
    "df=df[df['age']<80]\n",
    "df.shape"
   ]
  },
  {
   "cell_type": "markdown",
   "id": "627e5bc6-b19d-4ab4-834f-b8d55cd48c84",
   "metadata": {},
   "source": [
    "Now I want to carry out a little bit analysis here about the converted users versus the un-converted ones. We can start from comparing the age and user status."
   ]
  },
  {
   "cell_type": "markdown",
   "id": "1d05739d-e22d-46e2-91cc-51215ecb3f8c",
   "metadata": {},
   "source": [
    "# 2. Data Exploration and Analysis"
   ]
  },
  {
   "cell_type": "code",
   "execution_count": 10,
   "id": "1efbde74-ca34-47d0-bc0a-855e0c923bc0",
   "metadata": {},
   "outputs": [
    {
     "data": {
      "text/plain": [
       "converted\n",
       "0    306000\n",
       "1     10198\n",
       "Name: count, dtype: int64"
      ]
     },
     "execution_count": 10,
     "metadata": {},
     "output_type": "execute_result"
    }
   ],
   "source": [
    "df.converted.value_counts()"
   ]
  },
  {
   "cell_type": "code",
   "execution_count": 11,
   "id": "5f5dfa1a-fead-433f-8dd8-d92f795eab52",
   "metadata": {},
   "outputs": [
    {
     "data": {
      "text/plain": [
       "([<matplotlib.axis.XTick at 0x1440d14b550>,\n",
       "  <matplotlib.axis.XTick at 0x1440d149890>],\n",
       " [Text(0, 0, 'not converted'), Text(1, 0, 'converted')])"
      ]
     },
     "execution_count": 11,
     "metadata": {},
     "output_type": "execute_result"
    },
    {
     "data": {
      "image/png": "[encoded data removed]",
      "text/plain": [
       "<Figure size 640x480 with 1 Axes>"
      ]
     },
     "metadata": {},
     "output_type": "display_data"
    }
   ],
   "source": [
    "sns.histplot(df.converted,bins=2)\n",
    "plt.xticks([0,1],['not converted','converted'])"
   ]
  },
  {
   "cell_type": "markdown",
   "id": "81c72854-4e60-4a47-b2f6-0d114890f6ee",
   "metadata": {},
   "source": [
    "From conversion histogram it's safe to say this is a very imbalanced dataset. I'll use SMOTE method to preprocess the data and Precision-Recall curve to evaluate models later on."
   ]
  },
  {
   "cell_type": "code",
   "execution_count": 12,
   "id": "27c94613-35e7-4ee3-9a25-9f05277db13c",
   "metadata": {},
   "outputs": [
    {
     "data": {
      "text/html": [
       "<div>\n",
       "<style scoped>\n",
       "    .dataframe tbody tr th:only-of-type {\n",
       "        vertical-align: middle;\n",
       "    }\n",
       "\n",
       "    .dataframe tbody tr th {\n",
       "        vertical-align: top;\n",
       "    }\n",
       "\n",
       "    .dataframe thead th {\n",
       "        text-align: right;\n",
       "    }\n",
       "</style>\n",
       "<table border=\"1\" class=\"dataframe\">\n",
       "  <thead>\n",
       "    <tr style=\"text-align: right;\">\n",
       "      <th></th>\n",
       "      <th>age</th>\n",
       "      <th>new_user</th>\n",
       "      <th>total_pages_visited</th>\n",
       "    </tr>\n",
       "    <tr>\n",
       "      <th>converted</th>\n",
       "      <th></th>\n",
       "      <th></th>\n",
       "      <th></th>\n",
       "    </tr>\n",
       "  </thead>\n",
       "  <tbody>\n",
       "    <tr>\n",
       "      <th>0</th>\n",
       "      <td>30.703961</td>\n",
       "      <td>0.698382</td>\n",
       "      <td>4.550281</td>\n",
       "    </tr>\n",
       "    <tr>\n",
       "      <th>1</th>\n",
       "      <td>26.529025</td>\n",
       "      <td>0.298000</td>\n",
       "      <td>14.553932</td>\n",
       "    </tr>\n",
       "  </tbody>\n",
       "</table>\n",
       "</div>"
      ],
      "text/plain": [
       "                 age  new_user  total_pages_visited\n",
       "converted                                          \n",
       "0          30.703961  0.698382             4.550281\n",
       "1          26.529025  0.298000            14.553932"
      ]
     },
     "execution_count": 12,
     "metadata": {},
     "output_type": "execute_result"
    }
   ],
   "source": [
    "df.groupby(['converted']).mean(numeric_only=True)"
   ]
  },
  {
   "cell_type": "markdown",
   "id": "e83dab19-f3c3-4b39-b059-2950e6ace8b3",
   "metadata": {},
   "source": [
    "A glance at the mean shows young audience tends to be converted easier. But I'll go deeper in terms of age, nationality, source and total pages visited."
   ]
  },
  {
   "cell_type": "code",
   "execution_count": 13,
   "id": "a32f48eb-37d4-4ac7-aed3-89cd6be8002a",
   "metadata": {},
   "outputs": [
    {
     "data": {
      "text/plain": [
       "<Axes: title={'center': 'conversion rate by age'}, xlabel='age'>"
      ]
     },
     "execution_count": 13,
     "metadata": {},
     "output_type": "execute_result"
    },
    {
     "data": {
      "image/png": "[encoded data removed]",
      "text/plain": [
       "<Figure size 1200x500 with 1 Axes>"
      ]
     },
     "metadata": {},
     "output_type": "display_data"
    }
   ],
   "source": [
    "data_age=df.groupby('age').converted.mean(numeric_only=True)\n",
    "data_age.plot(title='conversion rate by age',figsize=(12,5))"
   ]
  },
  {
   "cell_type": "code",
   "execution_count": 14,
   "id": "18508299-3269-457b-83ce-0ea49fdc4fda",
   "metadata": {},
   "outputs": [
    {
     "data": {
      "text/plain": [
       "<Axes: title={'center': 'conversion rate by country'}, xlabel='country'>"
      ]
     },
     "execution_count": 14,
     "metadata": {},
     "output_type": "execute_result"
    },
    {
     "data": {
      "image/png": "[encoded data removed]",
      "text/plain": [
       "<Figure size 1200x500 with 1 Axes>"
      ]
     },
     "metadata": {},
     "output_type": "display_data"
    }
   ],
   "source": [
    "data_country=df.groupby('country').converted.mean(numeric_only=True)\n",
    "data_country.plot(title='conversion rate by country',kind='bar',figsize=(12,5))"
   ]
  },
  {
   "cell_type": "code",
   "execution_count": 15,
   "id": "c6a19253-4263-4ed8-acfd-c5f6f59d2e93",
   "metadata": {},
   "outputs": [
    {
     "data": {
      "text/plain": [
       "<Axes: title={'center': 'conversion rate by source'}, xlabel='source'>"
      ]
     },
     "execution_count": 15,
     "metadata": {},
     "output_type": "execute_result"
    },
    {
     "data": {
      "image/png": "[encoded data removed]",
      "text/plain": [
       "<Figure size 1200x500 with 1 Axes>"
      ]
     },
     "metadata": {},
     "output_type": "display_data"
    }
   ],
   "source": [
    "data_source=df.groupby('source').converted.mean(numeric_only=True)\n",
    "data_source.plot(title='conversion rate by source',kind='bar',figsize=(12,5))"
   ]
  },
  {
   "cell_type": "code",
   "execution_count": 16,
   "id": "c0b0dce4-c1ac-4a12-a58c-7f050f5a1edb",
   "metadata": {},
   "outputs": [
    {
     "data": {
      "text/plain": [
       "<Axes: title={'center': 'conversion rate by user status'}, xlabel='new_user'>"
      ]
     },
     "execution_count": 16,
     "metadata": {},
     "output_type": "execute_result"
    },
    {
     "data": {
      "image/png": "[encoded data removed]",
      "text/plain": [
       "<Figure size 1200x500 with 1 Axes>"
      ]
     },
     "metadata": {},
     "output_type": "display_data"
    }
   ],
   "source": [
    "data_new_user=df.groupby('new_user').converted.mean(numeric_only=True)\n",
    "data_new_user.plot(title='conversion rate by user status',kind='bar',figsize=(12,5))"
   ]
  },
  {
   "cell_type": "code",
   "execution_count": 17,
   "id": "7ece5d4a-06db-46b1-b3e0-224943f28582",
   "metadata": {},
   "outputs": [
    {
     "data": {
      "text/plain": [
       "<Axes: title={'center': 'conversion rate by pages visted'}, xlabel='total_pages_visited'>"
      ]
     },
     "execution_count": 17,
     "metadata": {},
     "output_type": "execute_result"
    },
    {
     "data": {
      "image/png": "[encoded data removed]",
      "text/plain": [
       "<Figure size 1200x500 with 1 Axes>"
      ]
     },
     "metadata": {},
     "output_type": "display_data"
    }
   ],
   "source": [
    "data_pages=df.groupby('total_pages_visited').converted.mean(numeric_only=True)\n",
    "data_pages.plot(title='conversion rate by pages visted', figsize=(12,5))"
   ]
  },
  {
   "cell_type": "markdown",
   "id": "118f1ee6-aa76-400b-99ba-dfe52082619c",
   "metadata": {},
   "source": [
    "## 3. Brief Summary\n",
    "From data visualization, a few points are clear:\n",
    "1. Younger is richer, as they are more willing to spend online\n",
    "2. Chinese users are picky, as conversion rates in China is extremely low\n",
    "3. People do reseaches before purchase, as conversion rates are positively related to pages visited\n",
    "4. Ad source doesn't play a big role impacting conversion rates.\n",
    "\n",
    "At this point I'm ready to go ahead and pre-process data for modeling."
   ]
  },
  {
   "cell_type": "markdown",
   "id": "0b3444d0-8630-48f7-87e2-966b328a4856",
   "metadata": {},
   "source": [
    "## 4. Data preparation"
   ]
  },
  {
   "cell_type": "markdown",
   "id": "c4a9d911-b0c0-4329-9340-3cded8f8666e",
   "metadata": {},
   "source": [
    "### a) create dummy variable by one-hot encoding for train and test data"
   ]
  },
  {
   "cell_type": "code",
   "execution_count": 18,
   "id": "a9ee7225-4929-456f-be84-d9cae9c58ce6",
   "metadata": {},
   "outputs": [
    {
     "data": {
      "text/html": [
       "<div>\n",
       "<style scoped>\n",
       "    .dataframe tbody tr th:only-of-type {\n",
       "        vertical-align: middle;\n",
       "    }\n",
       "\n",
       "    .dataframe tbody tr th {\n",
       "        vertical-align: top;\n",
       "    }\n",
       "\n",
       "    .dataframe thead th {\n",
       "        text-align: right;\n",
       "    }\n",
       "</style>\n",
       "<table border=\"1\" class=\"dataframe\">\n",
       "  <thead>\n",
       "    <tr style=\"text-align: right;\">\n",
       "      <th></th>\n",
       "      <th>age</th>\n",
       "      <th>new_user</th>\n",
       "      <th>total_pages_visited</th>\n",
       "      <th>source_Ads</th>\n",
       "      <th>source_Direct</th>\n",
       "      <th>source_Seo</th>\n",
       "      <th>country_China</th>\n",
       "      <th>country_Germany</th>\n",
       "      <th>country_UK</th>\n",
       "      <th>country_US</th>\n",
       "    </tr>\n",
       "  </thead>\n",
       "  <tbody>\n",
       "    <tr>\n",
       "      <th>0</th>\n",
       "      <td>25</td>\n",
       "      <td>1</td>\n",
       "      <td>1</td>\n",
       "      <td>1</td>\n",
       "      <td>0</td>\n",
       "      <td>0</td>\n",
       "      <td>0</td>\n",
       "      <td>0</td>\n",
       "      <td>1</td>\n",
       "      <td>0</td>\n",
       "    </tr>\n",
       "    <tr>\n",
       "      <th>1</th>\n",
       "      <td>23</td>\n",
       "      <td>1</td>\n",
       "      <td>5</td>\n",
       "      <td>0</td>\n",
       "      <td>0</td>\n",
       "      <td>1</td>\n",
       "      <td>0</td>\n",
       "      <td>0</td>\n",
       "      <td>0</td>\n",
       "      <td>1</td>\n",
       "    </tr>\n",
       "    <tr>\n",
       "      <th>2</th>\n",
       "      <td>28</td>\n",
       "      <td>1</td>\n",
       "      <td>4</td>\n",
       "      <td>0</td>\n",
       "      <td>0</td>\n",
       "      <td>1</td>\n",
       "      <td>0</td>\n",
       "      <td>0</td>\n",
       "      <td>0</td>\n",
       "      <td>1</td>\n",
       "    </tr>\n",
       "    <tr>\n",
       "      <th>3</th>\n",
       "      <td>39</td>\n",
       "      <td>1</td>\n",
       "      <td>5</td>\n",
       "      <td>0</td>\n",
       "      <td>0</td>\n",
       "      <td>1</td>\n",
       "      <td>1</td>\n",
       "      <td>0</td>\n",
       "      <td>0</td>\n",
       "      <td>0</td>\n",
       "    </tr>\n",
       "    <tr>\n",
       "      <th>4</th>\n",
       "      <td>30</td>\n",
       "      <td>1</td>\n",
       "      <td>6</td>\n",
       "      <td>0</td>\n",
       "      <td>0</td>\n",
       "      <td>1</td>\n",
       "      <td>0</td>\n",
       "      <td>0</td>\n",
       "      <td>0</td>\n",
       "      <td>1</td>\n",
       "    </tr>\n",
       "    <tr>\n",
       "      <th>...</th>\n",
       "      <td>...</td>\n",
       "      <td>...</td>\n",
       "      <td>...</td>\n",
       "      <td>...</td>\n",
       "      <td>...</td>\n",
       "      <td>...</td>\n",
       "      <td>...</td>\n",
       "      <td>...</td>\n",
       "      <td>...</td>\n",
       "      <td>...</td>\n",
       "    </tr>\n",
       "    <tr>\n",
       "      <th>316195</th>\n",
       "      <td>26</td>\n",
       "      <td>1</td>\n",
       "      <td>9</td>\n",
       "      <td>1</td>\n",
       "      <td>0</td>\n",
       "      <td>0</td>\n",
       "      <td>0</td>\n",
       "      <td>0</td>\n",
       "      <td>0</td>\n",
       "      <td>1</td>\n",
       "    </tr>\n",
       "    <tr>\n",
       "      <th>316196</th>\n",
       "      <td>27</td>\n",
       "      <td>1</td>\n",
       "      <td>6</td>\n",
       "      <td>0</td>\n",
       "      <td>1</td>\n",
       "      <td>0</td>\n",
       "      <td>0</td>\n",
       "      <td>0</td>\n",
       "      <td>0</td>\n",
       "      <td>1</td>\n",
       "    </tr>\n",
       "    <tr>\n",
       "      <th>316197</th>\n",
       "      <td>25</td>\n",
       "      <td>0</td>\n",
       "      <td>4</td>\n",
       "      <td>1</td>\n",
       "      <td>0</td>\n",
       "      <td>0</td>\n",
       "      <td>1</td>\n",
       "      <td>0</td>\n",
       "      <td>0</td>\n",
       "      <td>0</td>\n",
       "    </tr>\n",
       "    <tr>\n",
       "      <th>316198</th>\n",
       "      <td>22</td>\n",
       "      <td>0</td>\n",
       "      <td>4</td>\n",
       "      <td>0</td>\n",
       "      <td>0</td>\n",
       "      <td>1</td>\n",
       "      <td>0</td>\n",
       "      <td>0</td>\n",
       "      <td>0</td>\n",
       "      <td>1</td>\n",
       "    </tr>\n",
       "    <tr>\n",
       "      <th>316199</th>\n",
       "      <td>24</td>\n",
       "      <td>0</td>\n",
       "      <td>4</td>\n",
       "      <td>1</td>\n",
       "      <td>0</td>\n",
       "      <td>0</td>\n",
       "      <td>0</td>\n",
       "      <td>0</td>\n",
       "      <td>1</td>\n",
       "      <td>0</td>\n",
       "    </tr>\n",
       "  </tbody>\n",
       "</table>\n",
       "<p>316198 rows × 10 columns</p>\n",
       "</div>"
      ],
      "text/plain": [
       "        age  new_user  total_pages_visited  source_Ads  source_Direct  \\\n",
       "0        25         1                    1           1              0   \n",
       "1        23         1                    5           0              0   \n",
       "2        28         1                    4           0              0   \n",
       "3        39         1                    5           0              0   \n",
       "4        30         1                    6           0              0   \n",
       "...     ...       ...                  ...         ...            ...   \n",
       "316195   26         1                    9           1              0   \n",
       "316196   27         1                    6           0              1   \n",
       "316197   25         0                    4           1              0   \n",
       "316198   22         0                    4           0              0   \n",
       "316199   24         0                    4           1              0   \n",
       "\n",
       "        source_Seo  country_China  country_Germany  country_UK  country_US  \n",
       "0                0              0                0           1           0  \n",
       "1                1              0                0           0           1  \n",
       "2                1              0                0           0           1  \n",
       "3                1              1                0           0           0  \n",
       "4                1              0                0           0           1  \n",
       "...            ...            ...              ...         ...         ...  \n",
       "316195           0              0                0           0           1  \n",
       "316196           0              0                0           0           1  \n",
       "316197           0              1                0           0           0  \n",
       "316198           1              0                0           0           1  \n",
       "316199           0              0                0           1           0  \n",
       "\n",
       "[316198 rows x 10 columns]"
      ]
     },
     "execution_count": 18,
     "metadata": {},
     "output_type": "execute_result"
    }
   ],
   "source": [
    "# create dummy variable to prepare model vector\n",
    "country_index=pd.get_dummies(df.country,dtype=int,prefix='country')\n",
    "source_index=pd.get_dummies(df.source,dtype=int,prefix='source')\n",
    "X=pd.concat([df.age,df.new_user,df.total_pages_visited,source_index,country_index],axis='columns')\n",
    "X"
   ]
  },
  {
   "cell_type": "code",
   "execution_count": 19,
   "id": "de6ffef6-3be3-4015-82a1-a62add072749",
   "metadata": {},
   "outputs": [
    {
     "data": {
      "text/html": [
       "<div>\n",
       "<style scoped>\n",
       "    .dataframe tbody tr th:only-of-type {\n",
       "        vertical-align: middle;\n",
       "    }\n",
       "\n",
       "    .dataframe tbody tr th {\n",
       "        vertical-align: top;\n",
       "    }\n",
       "\n",
       "    .dataframe thead th {\n",
       "        text-align: right;\n",
       "    }\n",
       "</style>\n",
       "<table border=\"1\" class=\"dataframe\">\n",
       "  <thead>\n",
       "    <tr style=\"text-align: right;\">\n",
       "      <th></th>\n",
       "      <th>converted</th>\n",
       "    </tr>\n",
       "  </thead>\n",
       "  <tbody>\n",
       "    <tr>\n",
       "      <th>0</th>\n",
       "      <td>0</td>\n",
       "    </tr>\n",
       "    <tr>\n",
       "      <th>1</th>\n",
       "      <td>0</td>\n",
       "    </tr>\n",
       "    <tr>\n",
       "      <th>2</th>\n",
       "      <td>0</td>\n",
       "    </tr>\n",
       "    <tr>\n",
       "      <th>3</th>\n",
       "      <td>0</td>\n",
       "    </tr>\n",
       "    <tr>\n",
       "      <th>4</th>\n",
       "      <td>0</td>\n",
       "    </tr>\n",
       "    <tr>\n",
       "      <th>...</th>\n",
       "      <td>...</td>\n",
       "    </tr>\n",
       "    <tr>\n",
       "      <th>316195</th>\n",
       "      <td>0</td>\n",
       "    </tr>\n",
       "    <tr>\n",
       "      <th>316196</th>\n",
       "      <td>0</td>\n",
       "    </tr>\n",
       "    <tr>\n",
       "      <th>316197</th>\n",
       "      <td>0</td>\n",
       "    </tr>\n",
       "    <tr>\n",
       "      <th>316198</th>\n",
       "      <td>0</td>\n",
       "    </tr>\n",
       "    <tr>\n",
       "      <th>316199</th>\n",
       "      <td>0</td>\n",
       "    </tr>\n",
       "  </tbody>\n",
       "</table>\n",
       "<p>316198 rows × 1 columns</p>\n",
       "</div>"
      ],
      "text/plain": [
       "        converted\n",
       "0               0\n",
       "1               0\n",
       "2               0\n",
       "3               0\n",
       "4               0\n",
       "...           ...\n",
       "316195          0\n",
       "316196          0\n",
       "316197          0\n",
       "316198          0\n",
       "316199          0\n",
       "\n",
       "[316198 rows x 1 columns]"
      ]
     },
     "execution_count": 19,
     "metadata": {},
     "output_type": "execute_result"
    }
   ],
   "source": [
    "Y=pd.DataFrame(df.converted)\n",
    "Y"
   ]
  },
  {
   "cell_type": "markdown",
   "id": "c12d561e-44d4-447d-9d48-4c25ecc60abc",
   "metadata": {},
   "source": [
    "### b) SMOTE method to handle imbalanced dataset\n",
    "I'll first prepare train and test data on the original dataset, and later prepare another train/test data on SMOTE dataset.\n",
    "\n",
    "The purpose is to see the difference of resampling imbalanced dataset."
   ]
  },
  {
   "cell_type": "code",
   "execution_count": 20,
   "id": "c4749c7e-0af6-4f48-94a0-c4cacac973f6",
   "metadata": {},
   "outputs": [],
   "source": [
    "# Original dataset split\n",
    "from sklearn.model_selection import train_test_split\n",
    "X_train_0,X_test_0,Y_train_0,Y_test_0=train_test_split(X,Y,stratify=Y)\n",
    "# stratify=Y helps eliminating the possibility of randomly choosing data which are not converted at all\n",
    "# This is likely to happen when dealing with imbalanced dataset"
   ]
  },
  {
   "cell_type": "code",
   "execution_count": 21,
   "id": "da2dc421-da02-4533-bff3-bd092f717916",
   "metadata": {},
   "outputs": [
    {
     "data": {
      "text/plain": [
       "converted\n",
       "0            229500\n",
       "1              7648\n",
       "Name: count, dtype: int64"
      ]
     },
     "execution_count": 21,
     "metadata": {},
     "output_type": "execute_result"
    }
   ],
   "source": [
    "Y_train_0.value_counts()"
   ]
  },
  {
   "cell_type": "markdown",
   "id": "84b0d11a-badd-4d45-80cf-24de7d111e12",
   "metadata": {},
   "source": [
    "Converted users are extremely low in original dataset, which will have a huge impact on the model to train later on.\n",
    "\n",
    "In order to reduce the imbalance, I'll go ahead and use SMOTE method to generate synthetic minority samples into the dataset."
   ]
  },
  {
   "cell_type": "code",
   "execution_count": 22,
   "id": "d1d76c2c-8625-4bdc-825e-cb28c923003e",
   "metadata": {},
   "outputs": [],
   "source": [
    "from imblearn.over_sampling import SMOTE"
   ]
  },
  {
   "cell_type": "markdown",
   "id": "49951763-c46a-4543-94f6-5bbecaee6c97",
   "metadata": {},
   "source": [
    "Synthetic sample quality is sensitive to the value of k_neighbor. Here I've fine-tuned this to 100 and found this is a good value that returns a good result in model training."
   ]
  },
  {
   "cell_type": "code",
   "execution_count": 23,
   "id": "629e4b85-a0ba-4161-866d-56859d8aac85",
   "metadata": {},
   "outputs": [],
   "source": [
    "smote=SMOTE(k_neighbors=100) \n",
    "X_sm,Y_sm=smote.fit_resample(X,Y)"
   ]
  },
  {
   "cell_type": "code",
   "execution_count": 24,
   "id": "59f4d778-3759-4ef9-a8eb-e6ad4a6aa83f",
   "metadata": {},
   "outputs": [
    {
     "data": {
      "text/plain": [
       "converted\n",
       "0            306000\n",
       "1            306000\n",
       "Name: count, dtype: int64"
      ]
     },
     "execution_count": 24,
     "metadata": {},
     "output_type": "execute_result"
    }
   ],
   "source": [
    "Y_sm.value_counts()"
   ]
  },
  {
   "cell_type": "code",
   "execution_count": 25,
   "id": "95fe1e26-1f99-4314-bb98-11c565a68872",
   "metadata": {},
   "outputs": [],
   "source": [
    "X_train_smote,X_test_smote,Y_train_smote,Y_test_smote=train_test_split(X_sm,Y_sm,stratify=Y_sm)"
   ]
  },
  {
   "cell_type": "code",
   "execution_count": 26,
   "id": "9314d5fa-ab8d-49ca-b760-ce84c717b389",
   "metadata": {},
   "outputs": [
    {
     "data": {
      "text/html": [
       "<div>\n",
       "<style scoped>\n",
       "    .dataframe tbody tr th:only-of-type {\n",
       "        vertical-align: middle;\n",
       "    }\n",
       "\n",
       "    .dataframe tbody tr th {\n",
       "        vertical-align: top;\n",
       "    }\n",
       "\n",
       "    .dataframe thead th {\n",
       "        text-align: right;\n",
       "    }\n",
       "</style>\n",
       "<table border=\"1\" class=\"dataframe\">\n",
       "  <thead>\n",
       "    <tr style=\"text-align: right;\">\n",
       "      <th></th>\n",
       "      <th>age</th>\n",
       "      <th>new_user</th>\n",
       "      <th>total_pages_visited</th>\n",
       "      <th>source_Ads</th>\n",
       "      <th>source_Direct</th>\n",
       "      <th>source_Seo</th>\n",
       "      <th>country_China</th>\n",
       "      <th>country_Germany</th>\n",
       "      <th>country_UK</th>\n",
       "      <th>country_US</th>\n",
       "    </tr>\n",
       "  </thead>\n",
       "  <tbody>\n",
       "    <tr>\n",
       "      <th>272755</th>\n",
       "      <td>25</td>\n",
       "      <td>1</td>\n",
       "      <td>3</td>\n",
       "      <td>1</td>\n",
       "      <td>0</td>\n",
       "      <td>0</td>\n",
       "      <td>1</td>\n",
       "      <td>0</td>\n",
       "      <td>0</td>\n",
       "      <td>0</td>\n",
       "    </tr>\n",
       "    <tr>\n",
       "      <th>368336</th>\n",
       "      <td>27</td>\n",
       "      <td>1</td>\n",
       "      <td>18</td>\n",
       "      <td>0</td>\n",
       "      <td>0</td>\n",
       "      <td>0</td>\n",
       "      <td>0</td>\n",
       "      <td>0</td>\n",
       "      <td>0</td>\n",
       "      <td>1</td>\n",
       "    </tr>\n",
       "    <tr>\n",
       "      <th>561087</th>\n",
       "      <td>32</td>\n",
       "      <td>0</td>\n",
       "      <td>9</td>\n",
       "      <td>0</td>\n",
       "      <td>0</td>\n",
       "      <td>0</td>\n",
       "      <td>0</td>\n",
       "      <td>0</td>\n",
       "      <td>0</td>\n",
       "      <td>1</td>\n",
       "    </tr>\n",
       "    <tr>\n",
       "      <th>509962</th>\n",
       "      <td>29</td>\n",
       "      <td>0</td>\n",
       "      <td>21</td>\n",
       "      <td>0</td>\n",
       "      <td>0</td>\n",
       "      <td>0</td>\n",
       "      <td>0</td>\n",
       "      <td>0</td>\n",
       "      <td>0</td>\n",
       "      <td>0</td>\n",
       "    </tr>\n",
       "    <tr>\n",
       "      <th>75741</th>\n",
       "      <td>32</td>\n",
       "      <td>1</td>\n",
       "      <td>7</td>\n",
       "      <td>0</td>\n",
       "      <td>0</td>\n",
       "      <td>1</td>\n",
       "      <td>0</td>\n",
       "      <td>0</td>\n",
       "      <td>0</td>\n",
       "      <td>1</td>\n",
       "    </tr>\n",
       "    <tr>\n",
       "      <th>...</th>\n",
       "      <td>...</td>\n",
       "      <td>...</td>\n",
       "      <td>...</td>\n",
       "      <td>...</td>\n",
       "      <td>...</td>\n",
       "      <td>...</td>\n",
       "      <td>...</td>\n",
       "      <td>...</td>\n",
       "      <td>...</td>\n",
       "      <td>...</td>\n",
       "    </tr>\n",
       "    <tr>\n",
       "      <th>567372</th>\n",
       "      <td>30</td>\n",
       "      <td>0</td>\n",
       "      <td>24</td>\n",
       "      <td>0</td>\n",
       "      <td>0</td>\n",
       "      <td>0</td>\n",
       "      <td>0</td>\n",
       "      <td>0</td>\n",
       "      <td>0</td>\n",
       "      <td>1</td>\n",
       "    </tr>\n",
       "    <tr>\n",
       "      <th>198138</th>\n",
       "      <td>31</td>\n",
       "      <td>1</td>\n",
       "      <td>6</td>\n",
       "      <td>0</td>\n",
       "      <td>0</td>\n",
       "      <td>1</td>\n",
       "      <td>0</td>\n",
       "      <td>0</td>\n",
       "      <td>0</td>\n",
       "      <td>1</td>\n",
       "    </tr>\n",
       "    <tr>\n",
       "      <th>343321</th>\n",
       "      <td>17</td>\n",
       "      <td>0</td>\n",
       "      <td>20</td>\n",
       "      <td>0</td>\n",
       "      <td>1</td>\n",
       "      <td>0</td>\n",
       "      <td>0</td>\n",
       "      <td>0</td>\n",
       "      <td>0</td>\n",
       "      <td>0</td>\n",
       "    </tr>\n",
       "    <tr>\n",
       "      <th>419142</th>\n",
       "      <td>27</td>\n",
       "      <td>0</td>\n",
       "      <td>12</td>\n",
       "      <td>1</td>\n",
       "      <td>0</td>\n",
       "      <td>0</td>\n",
       "      <td>0</td>\n",
       "      <td>0</td>\n",
       "      <td>0</td>\n",
       "      <td>0</td>\n",
       "    </tr>\n",
       "    <tr>\n",
       "      <th>191226</th>\n",
       "      <td>28</td>\n",
       "      <td>1</td>\n",
       "      <td>2</td>\n",
       "      <td>1</td>\n",
       "      <td>0</td>\n",
       "      <td>0</td>\n",
       "      <td>1</td>\n",
       "      <td>0</td>\n",
       "      <td>0</td>\n",
       "      <td>0</td>\n",
       "    </tr>\n",
       "  </tbody>\n",
       "</table>\n",
       "<p>459000 rows × 10 columns</p>\n",
       "</div>"
      ],
      "text/plain": [
       "        age  new_user  total_pages_visited  source_Ads  source_Direct  \\\n",
       "272755   25         1                    3           1              0   \n",
       "368336   27         1                   18           0              0   \n",
       "561087   32         0                    9           0              0   \n",
       "509962   29         0                   21           0              0   \n",
       "75741    32         1                    7           0              0   \n",
       "...     ...       ...                  ...         ...            ...   \n",
       "567372   30         0                   24           0              0   \n",
       "198138   31         1                    6           0              0   \n",
       "343321   17         0                   20           0              1   \n",
       "419142   27         0                   12           1              0   \n",
       "191226   28         1                    2           1              0   \n",
       "\n",
       "        source_Seo  country_China  country_Germany  country_UK  country_US  \n",
       "272755           0              1                0           0           0  \n",
       "368336           0              0                0           0           1  \n",
       "561087           0              0                0           0           1  \n",
       "509962           0              0                0           0           0  \n",
       "75741            1              0                0           0           1  \n",
       "...            ...            ...              ...         ...         ...  \n",
       "567372           0              0                0           0           1  \n",
       "198138           1              0                0           0           1  \n",
       "343321           0              0                0           0           0  \n",
       "419142           0              0                0           0           0  \n",
       "191226           0              1                0           0           0  \n",
       "\n",
       "[459000 rows x 10 columns]"
      ]
     },
     "execution_count": 26,
     "metadata": {},
     "output_type": "execute_result"
    }
   ],
   "source": [
    "X_train_smote"
   ]
  },
  {
   "cell_type": "code",
   "execution_count": 27,
   "id": "fdfedffa-475b-4f88-8fcc-645eaa4848bb",
   "metadata": {},
   "outputs": [
    {
     "data": {
      "text/html": [
       "<div>\n",
       "<style scoped>\n",
       "    .dataframe tbody tr th:only-of-type {\n",
       "        vertical-align: middle;\n",
       "    }\n",
       "\n",
       "    .dataframe tbody tr th {\n",
       "        vertical-align: top;\n",
       "    }\n",
       "\n",
       "    .dataframe thead th {\n",
       "        text-align: right;\n",
       "    }\n",
       "</style>\n",
       "<table border=\"1\" class=\"dataframe\">\n",
       "  <thead>\n",
       "    <tr style=\"text-align: right;\">\n",
       "      <th></th>\n",
       "      <th>converted</th>\n",
       "    </tr>\n",
       "  </thead>\n",
       "  <tbody>\n",
       "    <tr>\n",
       "      <th>272755</th>\n",
       "      <td>0</td>\n",
       "    </tr>\n",
       "    <tr>\n",
       "      <th>368336</th>\n",
       "      <td>1</td>\n",
       "    </tr>\n",
       "    <tr>\n",
       "      <th>561087</th>\n",
       "      <td>1</td>\n",
       "    </tr>\n",
       "    <tr>\n",
       "      <th>509962</th>\n",
       "      <td>1</td>\n",
       "    </tr>\n",
       "    <tr>\n",
       "      <th>75741</th>\n",
       "      <td>0</td>\n",
       "    </tr>\n",
       "    <tr>\n",
       "      <th>...</th>\n",
       "      <td>...</td>\n",
       "    </tr>\n",
       "    <tr>\n",
       "      <th>567372</th>\n",
       "      <td>1</td>\n",
       "    </tr>\n",
       "    <tr>\n",
       "      <th>198138</th>\n",
       "      <td>0</td>\n",
       "    </tr>\n",
       "    <tr>\n",
       "      <th>343321</th>\n",
       "      <td>1</td>\n",
       "    </tr>\n",
       "    <tr>\n",
       "      <th>419142</th>\n",
       "      <td>1</td>\n",
       "    </tr>\n",
       "    <tr>\n",
       "      <th>191226</th>\n",
       "      <td>0</td>\n",
       "    </tr>\n",
       "  </tbody>\n",
       "</table>\n",
       "<p>459000 rows × 1 columns</p>\n",
       "</div>"
      ],
      "text/plain": [
       "        converted\n",
       "272755          0\n",
       "368336          1\n",
       "561087          1\n",
       "509962          1\n",
       "75741           0\n",
       "...           ...\n",
       "567372          1\n",
       "198138          0\n",
       "343321          1\n",
       "419142          1\n",
       "191226          0\n",
       "\n",
       "[459000 rows x 1 columns]"
      ]
     },
     "execution_count": 27,
     "metadata": {},
     "output_type": "execute_result"
    }
   ],
   "source": [
    "Y_train_smote"
   ]
  },
  {
   "cell_type": "code",
   "execution_count": 28,
   "id": "927e1df7-e46a-4a7f-9aa9-f8ba3bd466ad",
   "metadata": {},
   "outputs": [
    {
     "data": {
      "text/plain": [
       "converted\n",
       "0            229500\n",
       "1            229500\n",
       "Name: count, dtype: int64"
      ]
     },
     "execution_count": 28,
     "metadata": {},
     "output_type": "execute_result"
    }
   ],
   "source": [
    "Y_train_smote.value_counts()"
   ]
  },
  {
   "cell_type": "markdown",
   "id": "31f51ec8-936e-494f-9dfe-d5a3c957a92f",
   "metadata": {},
   "source": [
    "Now that the data is prepped, life is perfectly balanced now and I'm ready to train the machine.\n",
    "\n",
    "Since this is a binary classification problem, I'll use logistic regression and random forest to train."
   ]
  },
  {
   "cell_type": "markdown",
   "id": "9efa6a4b-a188-4312-a2b8-c89c563c2344",
   "metadata": {},
   "source": [
    "## 5. Logistic Regression\n",
    "Here I'll train two linear regression models. One model will be trained on original dataset (un-SMOTE'd) and the other model will be trained on SMOTE'd dataset."
   ]
  },
  {
   "cell_type": "code",
   "execution_count": 29,
   "id": "bd13558e-5887-48f2-b47e-346285e0f192",
   "metadata": {},
   "outputs": [],
   "source": [
    "from sklearn.linear_model import LogisticRegression\n",
    "lg_0=LogisticRegression(max_iter=len(X_train_smote),solver='newton-cholesky')\n",
    "lg_smote=LogisticRegression(max_iter=len(X_train_smote),solver='newton-cholesky')"
   ]
  },
  {
   "cell_type": "markdown",
   "id": "1342cc89-7606-4525-8402-e5841aff0a21",
   "metadata": {},
   "source": [
    "### a) model fitting"
   ]
  },
  {
   "cell_type": "code",
   "execution_count": 30,
   "id": "95fe6b87-8ad2-42a5-a7cc-78f733d1a206",
   "metadata": {},
   "outputs": [
    {
     "data": {
      "text/html": [
       "<style>#sk-container-id-1 {color: black;}#sk-container-id-1 pre{padding: 0;}#sk-container-id-1 div.sk-toggleable {background-color: white;}#sk-container-id-1 label.sk-toggleable__label {cursor: pointer;display: block;width: 100%;margin-bottom: 0;padding: 0.3em;box-sizing: border-box;text-align: center;}#sk-container-id-1 label.sk-toggleable__label-arrow:before {content: \"▸\";float: left;margin-right: 0.25em;color: #696969;}#sk-container-id-1 label.sk-toggleable__label-arrow:hover:before {color: black;}#sk-container-id-1 div.sk-estimator:hover label.sk-toggleable__label-arrow:before {color: black;}#sk-container-id-1 div.sk-toggleable__content {max-height: 0;max-width: 0;overflow: hidden;text-align: left;background-color: #f0f8ff;}#sk-container-id-1 div.sk-toggleable__content pre {margin: 0.2em;color: black;border-radius: 0.25em;background-color: #f0f8ff;}#sk-container-id-1 input.sk-toggleable__control:checked~div.sk-toggleable__content {max-height: 200px;max-width: 100%;overflow: auto;}#sk-container-id-1 input.sk-toggleable__control:checked~label.sk-toggleable__label-arrow:before {content: \"▾\";}#sk-container-id-1 div.sk-estimator input.sk-toggleable__control:checked~label.sk-toggleable__label {background-color: #d4ebff;}#sk-container-id-1 div.sk-label input.sk-toggleable__control:checked~label.sk-toggleable__label {background-color: #d4ebff;}#sk-container-id-1 input.sk-hidden--visually {border: 0;clip: rect(1px 1px 1px 1px);clip: rect(1px, 1px, 1px, 1px);height: 1px;margin: -1px;overflow: hidden;padding: 0;position: absolute;width: 1px;}#sk-container-id-1 div.sk-estimator {font-family: monospace;background-color: #f0f8ff;border: 1px dotted black;border-radius: 0.25em;box-sizing: border-box;margin-bottom: 0.5em;}#sk-container-id-1 div.sk-estimator:hover {background-color: #d4ebff;}#sk-container-id-1 div.sk-parallel-item::after {content: \"\";width: 100%;border-bottom: 1px solid gray;flex-grow: 1;}#sk-container-id-1 div.sk-label:hover label.sk-toggleable__label {background-color: #d4ebff;}#sk-container-id-1 div.sk-serial::before {content: \"\";position: absolute;border-left: 1px solid gray;box-sizing: border-box;top: 0;bottom: 0;left: 50%;z-index: 0;}#sk-container-id-1 div.sk-serial {display: flex;flex-direction: column;align-items: center;background-color: white;padding-right: 0.2em;padding-left: 0.2em;position: relative;}#sk-container-id-1 div.sk-item {position: relative;z-index: 1;}#sk-container-id-1 div.sk-parallel {display: flex;align-items: stretch;justify-content: center;background-color: white;position: relative;}#sk-container-id-1 div.sk-item::before, #sk-container-id-1 div.sk-parallel-item::before {content: \"\";position: absolute;border-left: 1px solid gray;box-sizing: border-box;top: 0;bottom: 0;left: 50%;z-index: -1;}#sk-container-id-1 div.sk-parallel-item {display: flex;flex-direction: column;z-index: 1;position: relative;background-color: white;}#sk-container-id-1 div.sk-parallel-item:first-child::after {align-self: flex-end;width: 50%;}#sk-container-id-1 div.sk-parallel-item:last-child::after {align-self: flex-start;width: 50%;}#sk-container-id-1 div.sk-parallel-item:only-child::after {width: 0;}#sk-container-id-1 div.sk-dashed-wrapped {border: 1px dashed gray;margin: 0 0.4em 0.5em 0.4em;box-sizing: border-box;padding-bottom: 0.4em;background-color: white;}#sk-container-id-1 div.sk-label label {font-family: monospace;font-weight: bold;display: inline-block;line-height: 1.2em;}#sk-container-id-1 div.sk-label-container {text-align: center;}#sk-container-id-1 div.sk-container {/* jupyter's `normalize.less` sets `[hidden] { display: none; }` but bootstrap.min.css set `[hidden] { display: none !important; }` so we also need the `!important` here to be able to override the default hidden behavior on the sphinx rendered scikit-learn.org. See: https://github.com/scikit-learn/scikit-learn/issues/21755 */display: inline-block !important;position: relative;}#sk-container-id-1 div.sk-text-repr-fallback {display: none;}</style><div id=\"sk-container-id-1\" class=\"sk-top-container\"><div class=\"sk-text-repr-fallback\"><pre>LogisticRegression(max_iter=459000, solver=&#x27;newton-cholesky&#x27;)</pre><b>In a Jupyter environment, please rerun this cell to show the HTML representation or trust the notebook. <br />On GitHub, the HTML representation is unable to render, please try loading this page with nbviewer.org.</b></div><div class=\"sk-container\" hidden><div class=\"sk-item\"><div class=\"sk-estimator sk-toggleable\"><input class=\"sk-toggleable__control sk-hidden--visually\" id=\"sk-estimator-id-1\" type=\"checkbox\" checked><label for=\"sk-estimator-id-1\" class=\"sk-toggleable__label sk-toggleable__label-arrow\">LogisticRegression</label><div class=\"sk-toggleable__content\"><pre>LogisticRegression(max_iter=459000, solver=&#x27;newton-cholesky&#x27;)</pre></div></div></div></div></div>"
      ],
      "text/plain": [
       "LogisticRegression(max_iter=459000, solver='newton-cholesky')"
      ]
     },
     "execution_count": 30,
     "metadata": {},
     "output_type": "execute_result"
    }
   ],
   "source": [
    "lg_0.fit(X_train_0.values,Y_train_0.values.ravel())"
   ]
  },
  {
   "cell_type": "code",
   "execution_count": 31,
   "id": "e82a1975-0cb1-4b55-ab52-77ead2cb2bcd",
   "metadata": {},
   "outputs": [
    {
     "data": {
      "text/html": [
       "<style>#sk-container-id-2 {color: black;}#sk-container-id-2 pre{padding: 0;}#sk-container-id-2 div.sk-toggleable {background-color: white;}#sk-container-id-2 label.sk-toggleable__label {cursor: pointer;display: block;width: 100%;margin-bottom: 0;padding: 0.3em;box-sizing: border-box;text-align: center;}#sk-container-id-2 label.sk-toggleable__label-arrow:before {content: \"▸\";float: left;margin-right: 0.25em;color: #696969;}#sk-container-id-2 label.sk-toggleable__label-arrow:hover:before {color: black;}#sk-container-id-2 div.sk-estimator:hover label.sk-toggleable__label-arrow:before {color: black;}#sk-container-id-2 div.sk-toggleable__content {max-height: 0;max-width: 0;overflow: hidden;text-align: left;background-color: #f0f8ff;}#sk-container-id-2 div.sk-toggleable__content pre {margin: 0.2em;color: black;border-radius: 0.25em;background-color: #f0f8ff;}#sk-container-id-2 input.sk-toggleable__control:checked~div.sk-toggleable__content {max-height: 200px;max-width: 100%;overflow: auto;}#sk-container-id-2 input.sk-toggleable__control:checked~label.sk-toggleable__label-arrow:before {content: \"▾\";}#sk-container-id-2 div.sk-estimator input.sk-toggleable__control:checked~label.sk-toggleable__label {background-color: #d4ebff;}#sk-container-id-2 div.sk-label input.sk-toggleable__control:checked~label.sk-toggleable__label {background-color: #d4ebff;}#sk-container-id-2 input.sk-hidden--visually {border: 0;clip: rect(1px 1px 1px 1px);clip: rect(1px, 1px, 1px, 1px);height: 1px;margin: -1px;overflow: hidden;padding: 0;position: absolute;width: 1px;}#sk-container-id-2 div.sk-estimator {font-family: monospace;background-color: #f0f8ff;border: 1px dotted black;border-radius: 0.25em;box-sizing: border-box;margin-bottom: 0.5em;}#sk-container-id-2 div.sk-estimator:hover {background-color: #d4ebff;}#sk-container-id-2 div.sk-parallel-item::after {content: \"\";width: 100%;border-bottom: 1px solid gray;flex-grow: 1;}#sk-container-id-2 div.sk-label:hover label.sk-toggleable__label {background-color: #d4ebff;}#sk-container-id-2 div.sk-serial::before {content: \"\";position: absolute;border-left: 1px solid gray;box-sizing: border-box;top: 0;bottom: 0;left: 50%;z-index: 0;}#sk-container-id-2 div.sk-serial {display: flex;flex-direction: column;align-items: center;background-color: white;padding-right: 0.2em;padding-left: 0.2em;position: relative;}#sk-container-id-2 div.sk-item {position: relative;z-index: 1;}#sk-container-id-2 div.sk-parallel {display: flex;align-items: stretch;justify-content: center;background-color: white;position: relative;}#sk-container-id-2 div.sk-item::before, #sk-container-id-2 div.sk-parallel-item::before {content: \"\";position: absolute;border-left: 1px solid gray;box-sizing: border-box;top: 0;bottom: 0;left: 50%;z-index: -1;}#sk-container-id-2 div.sk-parallel-item {display: flex;flex-direction: column;z-index: 1;position: relative;background-color: white;}#sk-container-id-2 div.sk-parallel-item:first-child::after {align-self: flex-end;width: 50%;}#sk-container-id-2 div.sk-parallel-item:last-child::after {align-self: flex-start;width: 50%;}#sk-container-id-2 div.sk-parallel-item:only-child::after {width: 0;}#sk-container-id-2 div.sk-dashed-wrapped {border: 1px dashed gray;margin: 0 0.4em 0.5em 0.4em;box-sizing: border-box;padding-bottom: 0.4em;background-color: white;}#sk-container-id-2 div.sk-label label {font-family: monospace;font-weight: bold;display: inline-block;line-height: 1.2em;}#sk-container-id-2 div.sk-label-container {text-align: center;}#sk-container-id-2 div.sk-container {/* jupyter's `normalize.less` sets `[hidden] { display: none; }` but bootstrap.min.css set `[hidden] { display: none !important; }` so we also need the `!important` here to be able to override the default hidden behavior on the sphinx rendered scikit-learn.org. See: https://github.com/scikit-learn/scikit-learn/issues/21755 */display: inline-block !important;position: relative;}#sk-container-id-2 div.sk-text-repr-fallback {display: none;}</style><div id=\"sk-container-id-2\" class=\"sk-top-container\"><div class=\"sk-text-repr-fallback\"><pre>LogisticRegression(max_iter=459000, solver=&#x27;newton-cholesky&#x27;)</pre><b>In a Jupyter environment, please rerun this cell to show the HTML representation or trust the notebook. <br />On GitHub, the HTML representation is unable to render, please try loading this page with nbviewer.org.</b></div><div class=\"sk-container\" hidden><div class=\"sk-item\"><div class=\"sk-estimator sk-toggleable\"><input class=\"sk-toggleable__control sk-hidden--visually\" id=\"sk-estimator-id-2\" type=\"checkbox\" checked><label for=\"sk-estimator-id-2\" class=\"sk-toggleable__label sk-toggleable__label-arrow\">LogisticRegression</label><div class=\"sk-toggleable__content\"><pre>LogisticRegression(max_iter=459000, solver=&#x27;newton-cholesky&#x27;)</pre></div></div></div></div></div>"
      ],
      "text/plain": [
       "LogisticRegression(max_iter=459000, solver='newton-cholesky')"
      ]
     },
     "execution_count": 31,
     "metadata": {},
     "output_type": "execute_result"
    }
   ],
   "source": [
    "lg_smote.fit(X_train_smote.values,Y_train_smote.values.ravel())"
   ]
  },
  {
   "cell_type": "markdown",
   "id": "067d99a0-08fa-4ec9-ac9e-2bcc34fc3d4d",
   "metadata": {},
   "source": [
    "### b) model evaluation"
   ]
  },
  {
   "cell_type": "code",
   "execution_count": 32,
   "id": "0aac9449-9948-47d0-841a-5b0415d46c0d",
   "metadata": {},
   "outputs": [],
   "source": [
    "# model evaluation\n",
    "from sklearn.metrics import confusion_matrix, classification_report\n",
    "from sklearn.metrics import accuracy_score\n",
    "Y_pred_0=lg_0.predict(X_test_0.values)\n",
    "Y_pred_smote=lg_smote.predict(X_test_0.values)"
   ]
  },
  {
   "cell_type": "markdown",
   "id": "a16b5f54-b946-459e-8728-9137419991a1",
   "metadata": {},
   "source": [
    "Here are the classification reports on both models:"
   ]
  },
  {
   "cell_type": "code",
   "execution_count": 33,
   "id": "07b28d2d-cf19-4ad4-9a26-8c42cfe97e3f",
   "metadata": {},
   "outputs": [
    {
     "name": "stdout",
     "output_type": "stream",
     "text": [
      "              precision    recall  f1-score   support\n",
      "\n",
      "           0       0.99      1.00      0.99     76500\n",
      "           1       0.85      0.69      0.76      2550\n",
      "\n",
      "    accuracy                           0.99     79050\n",
      "   macro avg       0.92      0.84      0.88     79050\n",
      "weighted avg       0.99      0.99      0.99     79050\n",
      "\n"
     ]
    }
   ],
   "source": [
    "# classification report for the first model\n",
    "print(classification_report(Y_test_0,Y_pred_0))"
   ]
  },
  {
   "cell_type": "code",
   "execution_count": 34,
   "id": "76ee8baf-708b-46f3-ae44-7f748f7ae567",
   "metadata": {},
   "outputs": [
    {
     "data": {
      "text/plain": [
       "array([[76189,   311],\n",
       "       [  785,  1765]], dtype=int64)"
      ]
     },
     "execution_count": 34,
     "metadata": {},
     "output_type": "execute_result"
    }
   ],
   "source": [
    "confusion_matrix(Y_test_0,Y_pred_0)"
   ]
  },
  {
   "cell_type": "code",
   "execution_count": 35,
   "id": "f1de281d-885d-4de7-b576-5f383fb50cfc",
   "metadata": {},
   "outputs": [
    {
     "name": "stdout",
     "output_type": "stream",
     "text": [
      "              precision    recall  f1-score   support\n",
      "\n",
      "           0       1.00      0.97      0.98     76500\n",
      "           1       0.51      0.86      0.64      2550\n",
      "\n",
      "    accuracy                           0.97     79050\n",
      "   macro avg       0.75      0.92      0.81     79050\n",
      "weighted avg       0.98      0.97      0.97     79050\n",
      "\n"
     ]
    }
   ],
   "source": [
    "# classification report for the second, SMOTE'd model\n",
    "print(classification_report(Y_test_0,Y_pred_smote))"
   ]
  },
  {
   "cell_type": "code",
   "execution_count": 36,
   "id": "01098a0f-8266-484c-9a3b-889249051c1f",
   "metadata": {},
   "outputs": [
    {
     "data": {
      "text/plain": [
       "array([[74366,  2134],\n",
       "       [  351,  2199]], dtype=int64)"
      ]
     },
     "execution_count": 36,
     "metadata": {},
     "output_type": "execute_result"
    }
   ],
   "source": [
    "confusion_matrix(Y_test_0,Y_pred_smote)"
   ]
  },
  {
   "cell_type": "markdown",
   "id": "fbb32b7f-f200-45a4-9ac6-5e7891b1afab",
   "metadata": {},
   "source": [
    "From classification reports and confusion matrices, it's clear to say the recall is significantly improved with SMOTE method. And for us who are looking to start a campaign, model with higher recall is exactly what we want.\n",
    "\n",
    "Let's see how are these two models performing by plotting PR Curve."
   ]
  },
  {
   "cell_type": "code",
   "execution_count": 37,
   "id": "882f230a-3c0e-4850-84cf-52bd4bd497b3",
   "metadata": {},
   "outputs": [],
   "source": [
    "# Precision-Recall Curve\n",
    "from sklearn.metrics import roc_auc_score, roc_curve, precision_recall_curve"
   ]
  },
  {
   "cell_type": "code",
   "execution_count": 38,
   "id": "84c1b109-e7b2-407f-8323-e421ca800068",
   "metadata": {},
   "outputs": [
    {
     "data": {
      "text/plain": [
       "Text(0.5, 1.0, 'Precision-Recall curve comparison for Logistic Regression model')"
      ]
     },
     "execution_count": 38,
     "metadata": {},
     "output_type": "execute_result"
    },
    {
     "data": {
      "image/png": "[encoded data removed]",
      "text/plain": [
       "<Figure size 640x480 with 1 Axes>"
      ]
     },
     "metadata": {},
     "output_type": "display_data"
    }
   ],
   "source": [
    "Y_prob_train_0=lg_0.predict_proba(X_test_0.values)[:,1]\n",
    "precision_0,recall_0,thresholds_0=precision_recall_curve(Y_test_0,Y_prob_train_0)\n",
    "\n",
    "Y_prob_train_smote=lg_smote.predict_proba(X_test_0.values)[:,1]\n",
    "precision_smote,recall_smote,thresholds_smote=precision_recall_curve(Y_test_0,Y_prob_train_smote)\n",
    "\n",
    "plt.plot(recall_0,precision_0)\n",
    "plt.plot(recall_smote,precision_smote)\n",
    "plt.legend([\"LR model on original dataset\", \"LR model on SMOTE'd dataset\"], loc =\"lower left\",facecolor='white') \n",
    "plt.ylabel(\"Precision\")\n",
    "plt.xlabel(\"Recall\")\n",
    "plt.title(\"Precision-Recall curve comparison for Logistic Regression model\")"
   ]
  },
  {
   "cell_type": "markdown",
   "id": "94fbc3dc-c4e4-4eb2-a39b-020b8f137411",
   "metadata": {},
   "source": [
    "It's clear that the model on original dataset is significantly impacted by the imbalanced dataset. Because the goal is to find the very handful amount of converted users from a largely imbalanced dataset, SMOTE method works very well to improve with this issue.\n",
    "\n",
    "Even though on PR curve the SMOTE'd model performs worse, I'd still use the SMOTE'd model later on, just because the much better true positive rates."
   ]
  },
  {
   "cell_type": "code",
   "execution_count": 39,
   "id": "44d1284d-e9ee-4592-848c-d45a89bf276c",
   "metadata": {},
   "outputs": [],
   "source": [
    "lg=lg_smote"
   ]
  },
  {
   "cell_type": "markdown",
   "id": "08216d55-f8cd-41ce-a129-7c8dcbd9c735",
   "metadata": {},
   "source": [
    "### c) feature importance"
   ]
  },
  {
   "cell_type": "code",
   "execution_count": 40,
   "id": "1be876fe-2e5d-4be3-a56d-b3bc2454f70c",
   "metadata": {},
   "outputs": [
    {
     "data": {
      "text/plain": [
       "array([ -0.10049001,  -2.88476083,   0.82921651,  -8.5897251 ,\n",
       "        -9.08452301,  -8.17538289, -13.00978023,  -8.27090753,\n",
       "        -7.65391153,  -7.33099547])"
      ]
     },
     "execution_count": 40,
     "metadata": {},
     "output_type": "execute_result"
    }
   ],
   "source": [
    "coefs = lg.coef_[0]\n",
    "coefs"
   ]
  },
  {
   "cell_type": "code",
   "execution_count": 41,
   "id": "355d7aa2-fd84-4272-86f9-dc7dbaed9ac3",
   "metadata": {},
   "outputs": [
    {
     "data": {
      "text/html": [
       "<div>\n",
       "<style scoped>\n",
       "    .dataframe tbody tr th:only-of-type {\n",
       "        vertical-align: middle;\n",
       "    }\n",
       "\n",
       "    .dataframe tbody tr th {\n",
       "        vertical-align: top;\n",
       "    }\n",
       "\n",
       "    .dataframe thead th {\n",
       "        text-align: right;\n",
       "    }\n",
       "</style>\n",
       "<table border=\"1\" class=\"dataframe\">\n",
       "  <thead>\n",
       "    <tr style=\"text-align: right;\">\n",
       "      <th></th>\n",
       "      <th>Feature</th>\n",
       "      <th>Importance</th>\n",
       "    </tr>\n",
       "  </thead>\n",
       "  <tbody>\n",
       "    <tr>\n",
       "      <th>2</th>\n",
       "      <td>total_pages_visited</td>\n",
       "      <td>0.829217</td>\n",
       "    </tr>\n",
       "    <tr>\n",
       "      <th>0</th>\n",
       "      <td>age</td>\n",
       "      <td>-0.100490</td>\n",
       "    </tr>\n",
       "    <tr>\n",
       "      <th>1</th>\n",
       "      <td>new_user</td>\n",
       "      <td>-2.884761</td>\n",
       "    </tr>\n",
       "    <tr>\n",
       "      <th>9</th>\n",
       "      <td>country_US</td>\n",
       "      <td>-7.330995</td>\n",
       "    </tr>\n",
       "    <tr>\n",
       "      <th>8</th>\n",
       "      <td>country_UK</td>\n",
       "      <td>-7.653912</td>\n",
       "    </tr>\n",
       "    <tr>\n",
       "      <th>5</th>\n",
       "      <td>source_Seo</td>\n",
       "      <td>-8.175383</td>\n",
       "    </tr>\n",
       "    <tr>\n",
       "      <th>7</th>\n",
       "      <td>country_Germany</td>\n",
       "      <td>-8.270908</td>\n",
       "    </tr>\n",
       "    <tr>\n",
       "      <th>3</th>\n",
       "      <td>source_Ads</td>\n",
       "      <td>-8.589725</td>\n",
       "    </tr>\n",
       "    <tr>\n",
       "      <th>4</th>\n",
       "      <td>source_Direct</td>\n",
       "      <td>-9.084523</td>\n",
       "    </tr>\n",
       "    <tr>\n",
       "      <th>6</th>\n",
       "      <td>country_China</td>\n",
       "      <td>-13.009780</td>\n",
       "    </tr>\n",
       "  </tbody>\n",
       "</table>\n",
       "</div>"
      ],
      "text/plain": [
       "               Feature  Importance\n",
       "2  total_pages_visited    0.829217\n",
       "0                  age   -0.100490\n",
       "1             new_user   -2.884761\n",
       "9           country_US   -7.330995\n",
       "8           country_UK   -7.653912\n",
       "5           source_Seo   -8.175383\n",
       "7      country_Germany   -8.270908\n",
       "3           source_Ads   -8.589725\n",
       "4        source_Direct   -9.084523\n",
       "6        country_China  -13.009780"
      ]
     },
     "execution_count": 41,
     "metadata": {},
     "output_type": "execute_result"
    }
   ],
   "source": [
    "# Here I'm pulling out a feature importance chart to see if data supports my previous summary\n",
    "feature_importance=pd.DataFrame({'Feature':X_train_smote.columns,'Importance':coefs})\n",
    "feature_importance.sort_values(by='Importance',ascending=False)"
   ]
  },
  {
   "cell_type": "markdown",
   "id": "0e494527-d0b6-43ae-bf68-cb47b47cfacf",
   "metadata": {},
   "source": [
    "From the feature importance chart, I can safely summarize a few takeaways here:\n",
    "1. German and British users are great potential audience, as they obtain the highest conversion rates\n",
    "2. Users from an ad are more likely to purchase\n",
    "3. Existing users are generally more willing to purchase than new users\n",
    "4. Younger is richer\n",
    "\n",
    "I would go ahead and try to fit a random forest model to see if I can get better results."
   ]
  },
  {
   "cell_type": "markdown",
   "id": "ead552b6-a8da-4a44-a569-2ecd5bfa0757",
   "metadata": {},
   "source": [
    "## 6. Random Forest"
   ]
  },
  {
   "cell_type": "code",
   "execution_count": 42,
   "id": "c99fb88a-cf0d-428a-9a11-222426dbef57",
   "metadata": {},
   "outputs": [],
   "source": [
    "from sklearn.ensemble import RandomForestClassifier\n",
    "rf=RandomForestClassifier()"
   ]
  },
  {
   "cell_type": "markdown",
   "id": "f585b008-6553-47fc-a6be-e1f0de42ffb2",
   "metadata": {},
   "source": [
    "### a) model fitting"
   ]
  },
  {
   "cell_type": "code",
   "execution_count": 43,
   "id": "229020bb-39b6-434f-9b9c-bb68dd23e40b",
   "metadata": {},
   "outputs": [
    {
     "data": {
      "text/html": [
       "<style>#sk-container-id-3 {color: black;}#sk-container-id-3 pre{padding: 0;}#sk-container-id-3 div.sk-toggleable {background-color: white;}#sk-container-id-3 label.sk-toggleable__label {cursor: pointer;display: block;width: 100%;margin-bottom: 0;padding: 0.3em;box-sizing: border-box;text-align: center;}#sk-container-id-3 label.sk-toggleable__label-arrow:before {content: \"▸\";float: left;margin-right: 0.25em;color: #696969;}#sk-container-id-3 label.sk-toggleable__label-arrow:hover:before {color: black;}#sk-container-id-3 div.sk-estimator:hover label.sk-toggleable__label-arrow:before {color: black;}#sk-container-id-3 div.sk-toggleable__content {max-height: 0;max-width: 0;overflow: hidden;text-align: left;background-color: #f0f8ff;}#sk-container-id-3 div.sk-toggleable__content pre {margin: 0.2em;color: black;border-radius: 0.25em;background-color: #f0f8ff;}#sk-container-id-3 input.sk-toggleable__control:checked~div.sk-toggleable__content {max-height: 200px;max-width: 100%;overflow: auto;}#sk-container-id-3 input.sk-toggleable__control:checked~label.sk-toggleable__label-arrow:before {content: \"▾\";}#sk-container-id-3 div.sk-estimator input.sk-toggleable__control:checked~label.sk-toggleable__label {background-color: #d4ebff;}#sk-container-id-3 div.sk-label input.sk-toggleable__control:checked~label.sk-toggleable__label {background-color: #d4ebff;}#sk-container-id-3 input.sk-hidden--visually {border: 0;clip: rect(1px 1px 1px 1px);clip: rect(1px, 1px, 1px, 1px);height: 1px;margin: -1px;overflow: hidden;padding: 0;position: absolute;width: 1px;}#sk-container-id-3 div.sk-estimator {font-family: monospace;background-color: #f0f8ff;border: 1px dotted black;border-radius: 0.25em;box-sizing: border-box;margin-bottom: 0.5em;}#sk-container-id-3 div.sk-estimator:hover {background-color: #d4ebff;}#sk-container-id-3 div.sk-parallel-item::after {content: \"\";width: 100%;border-bottom: 1px solid gray;flex-grow: 1;}#sk-container-id-3 div.sk-label:hover label.sk-toggleable__label {background-color: #d4ebff;}#sk-container-id-3 div.sk-serial::before {content: \"\";position: absolute;border-left: 1px solid gray;box-sizing: border-box;top: 0;bottom: 0;left: 50%;z-index: 0;}#sk-container-id-3 div.sk-serial {display: flex;flex-direction: column;align-items: center;background-color: white;padding-right: 0.2em;padding-left: 0.2em;position: relative;}#sk-container-id-3 div.sk-item {position: relative;z-index: 1;}#sk-container-id-3 div.sk-parallel {display: flex;align-items: stretch;justify-content: center;background-color: white;position: relative;}#sk-container-id-3 div.sk-item::before, #sk-container-id-3 div.sk-parallel-item::before {content: \"\";position: absolute;border-left: 1px solid gray;box-sizing: border-box;top: 0;bottom: 0;left: 50%;z-index: -1;}#sk-container-id-3 div.sk-parallel-item {display: flex;flex-direction: column;z-index: 1;position: relative;background-color: white;}#sk-container-id-3 div.sk-parallel-item:first-child::after {align-self: flex-end;width: 50%;}#sk-container-id-3 div.sk-parallel-item:last-child::after {align-self: flex-start;width: 50%;}#sk-container-id-3 div.sk-parallel-item:only-child::after {width: 0;}#sk-container-id-3 div.sk-dashed-wrapped {border: 1px dashed gray;margin: 0 0.4em 0.5em 0.4em;box-sizing: border-box;padding-bottom: 0.4em;background-color: white;}#sk-container-id-3 div.sk-label label {font-family: monospace;font-weight: bold;display: inline-block;line-height: 1.2em;}#sk-container-id-3 div.sk-label-container {text-align: center;}#sk-container-id-3 div.sk-container {/* jupyter's `normalize.less` sets `[hidden] { display: none; }` but bootstrap.min.css set `[hidden] { display: none !important; }` so we also need the `!important` here to be able to override the default hidden behavior on the sphinx rendered scikit-learn.org. See: https://github.com/scikit-learn/scikit-learn/issues/21755 */display: inline-block !important;position: relative;}#sk-container-id-3 div.sk-text-repr-fallback {display: none;}</style><div id=\"sk-container-id-3\" class=\"sk-top-container\"><div class=\"sk-text-repr-fallback\"><pre>RandomForestClassifier()</pre><b>In a Jupyter environment, please rerun this cell to show the HTML representation or trust the notebook. <br />On GitHub, the HTML representation is unable to render, please try loading this page with nbviewer.org.</b></div><div class=\"sk-container\" hidden><div class=\"sk-item\"><div class=\"sk-estimator sk-toggleable\"><input class=\"sk-toggleable__control sk-hidden--visually\" id=\"sk-estimator-id-3\" type=\"checkbox\" checked><label for=\"sk-estimator-id-3\" class=\"sk-toggleable__label sk-toggleable__label-arrow\">RandomForestClassifier</label><div class=\"sk-toggleable__content\"><pre>RandomForestClassifier()</pre></div></div></div></div></div>"
      ],
      "text/plain": [
       "RandomForestClassifier()"
      ]
     },
     "execution_count": 43,
     "metadata": {},
     "output_type": "execute_result"
    }
   ],
   "source": [
    "rf.fit(X_train_smote.values,Y_train_smote.values.ravel())"
   ]
  },
  {
   "cell_type": "markdown",
   "id": "f37194a0-0ae8-4d66-8961-5dbdc6e1b1b8",
   "metadata": {},
   "source": [
    "### b) model evaluation\n",
    "Again I'll use the entire dataset as test data."
   ]
  },
  {
   "cell_type": "code",
   "execution_count": 44,
   "id": "3a30dca6-be91-43df-b0c6-1b70ed2c9a26",
   "metadata": {},
   "outputs": [],
   "source": [
    "Y_pred2=rf.predict(X_test_0.values)"
   ]
  },
  {
   "cell_type": "code",
   "execution_count": 45,
   "id": "4f3819ae-e2a7-4e0a-9cf8-79f6e0cc08f1",
   "metadata": {},
   "outputs": [
    {
     "name": "stdout",
     "output_type": "stream",
     "text": [
      "              precision    recall  f1-score   support\n",
      "\n",
      "           0       1.00      0.97      0.99     76500\n",
      "           1       0.54      0.89      0.67      2550\n",
      "\n",
      "    accuracy                           0.97     79050\n",
      "   macro avg       0.77      0.93      0.83     79050\n",
      "weighted avg       0.98      0.97      0.97     79050\n",
      "\n"
     ]
    }
   ],
   "source": [
    "# classification report\n",
    "print(classification_report(Y_test_0,Y_pred2))"
   ]
  },
  {
   "cell_type": "code",
   "execution_count": 46,
   "id": "20f222ed-f004-4d9b-b772-90ce69fa21ff",
   "metadata": {},
   "outputs": [
    {
     "data": {
      "text/plain": [
       "array([[74535,  1965],\n",
       "       [  287,  2263]], dtype=int64)"
      ]
     },
     "execution_count": 46,
     "metadata": {},
     "output_type": "execute_result"
    }
   ],
   "source": [
    "# confusion matrix\n",
    "confusion_matrix(Y_test_0,Y_pred2)"
   ]
  },
  {
   "cell_type": "markdown",
   "id": "3bda8064-eb8f-4141-9ca9-78b586f28d1b",
   "metadata": {},
   "source": [
    "Random Forest model has a slightly higher true positive rates than logistic regression."
   ]
  },
  {
   "cell_type": "code",
   "execution_count": 47,
   "id": "31794de5-1dec-4a64-ba28-270b234a84bc",
   "metadata": {},
   "outputs": [
    {
     "data": {
      "text/plain": [
       "Text(0.5, 1.0, 'Precision-Recall curve for Random Forest model')"
      ]
     },
     "execution_count": 47,
     "metadata": {},
     "output_type": "execute_result"
    },
    {
     "data": {
      "image/png": "[encoded data removed]",
      "text/plain": [
       "<Figure size 640x480 with 1 Axes>"
      ]
     },
     "metadata": {},
     "output_type": "display_data"
    }
   ],
   "source": [
    "# Precision-Recall Curve\n",
    "Y_prob_test2=rf.predict_proba(X_test_0.values)[:,1]\n",
    "precision2,recall2,thresholds2=precision_recall_curve(Y_test_0,Y_prob_test2)\n",
    "plt.plot(recall2,precision2)\n",
    "plt.ylabel(\"Precision\")\n",
    "plt.xlabel(\"Recall\")\n",
    "plt.title(\"Precision-Recall curve for Random Forest model\")"
   ]
  },
  {
   "cell_type": "code",
   "execution_count": 48,
   "id": "0875b9d4-8fa2-4ac2-b97c-cf682d03f617",
   "metadata": {},
   "outputs": [
    {
     "data": {
      "text/plain": [
       "<matplotlib.legend.Legend at 0x144190af190>"
      ]
     },
     "execution_count": 48,
     "metadata": {},
     "output_type": "execute_result"
    },
    {
     "data": {
      "image/png": "[encoded data removed]",
      "text/plain": [
       "<Figure size 640x480 with 1 Axes>"
      ]
     },
     "metadata": {},
     "output_type": "display_data"
    }
   ],
   "source": [
    "plt.plot(recall2,precision2)\n",
    "plt.plot(recall_smote,precision_smote)\n",
    "plt.ylabel(\"Precision\")\n",
    "plt.xlabel(\"Recall\")\n",
    "plt.title(\"Precision-Recall curve for LR and RN model\")\n",
    "plt.legend([\"Random Forest\", \"Logistic Regression\"], loc =\"lower left\",facecolor='white') "
   ]
  },
  {
   "cell_type": "markdown",
   "id": "91db66d0-7e80-4955-8ef6-4afc4587f25a",
   "metadata": {},
   "source": [
    "From PR curve, it's safe to say Random Forest model works slightly better than Logistic Regression model. However the recall is slightly worse than logisitic regression model."
   ]
  },
  {
   "cell_type": "markdown",
   "id": "3bb474f9-5390-44d2-9f99-1538e6033fad",
   "metadata": {},
   "source": [
    "### c) Feature Importance"
   ]
  },
  {
   "cell_type": "code",
   "execution_count": 49,
   "id": "4a9395a8-6ff4-4d77-a448-ded89ffb1662",
   "metadata": {},
   "outputs": [
    {
     "data": {
      "text/html": [
       "<div>\n",
       "<style scoped>\n",
       "    .dataframe tbody tr th:only-of-type {\n",
       "        vertical-align: middle;\n",
       "    }\n",
       "\n",
       "    .dataframe tbody tr th {\n",
       "        vertical-align: top;\n",
       "    }\n",
       "\n",
       "    .dataframe thead th {\n",
       "        text-align: right;\n",
       "    }\n",
       "</style>\n",
       "<table border=\"1\" class=\"dataframe\">\n",
       "  <thead>\n",
       "    <tr style=\"text-align: right;\">\n",
       "      <th></th>\n",
       "      <th>Feature</th>\n",
       "      <th>Importance</th>\n",
       "    </tr>\n",
       "  </thead>\n",
       "  <tbody>\n",
       "    <tr>\n",
       "      <th>2</th>\n",
       "      <td>total_pages_visited</td>\n",
       "      <td>0.617082</td>\n",
       "    </tr>\n",
       "    <tr>\n",
       "      <th>1</th>\n",
       "      <td>new_user</td>\n",
       "      <td>0.187843</td>\n",
       "    </tr>\n",
       "    <tr>\n",
       "      <th>6</th>\n",
       "      <td>country_China</td>\n",
       "      <td>0.067147</td>\n",
       "    </tr>\n",
       "    <tr>\n",
       "      <th>0</th>\n",
       "      <td>age</td>\n",
       "      <td>0.036476</td>\n",
       "    </tr>\n",
       "    <tr>\n",
       "      <th>4</th>\n",
       "      <td>source_Direct</td>\n",
       "      <td>0.021611</td>\n",
       "    </tr>\n",
       "    <tr>\n",
       "      <th>5</th>\n",
       "      <td>source_Seo</td>\n",
       "      <td>0.020376</td>\n",
       "    </tr>\n",
       "    <tr>\n",
       "      <th>3</th>\n",
       "      <td>source_Ads</td>\n",
       "      <td>0.019185</td>\n",
       "    </tr>\n",
       "    <tr>\n",
       "      <th>9</th>\n",
       "      <td>country_US</td>\n",
       "      <td>0.011186</td>\n",
       "    </tr>\n",
       "    <tr>\n",
       "      <th>8</th>\n",
       "      <td>country_UK</td>\n",
       "      <td>0.011154</td>\n",
       "    </tr>\n",
       "    <tr>\n",
       "      <th>7</th>\n",
       "      <td>country_Germany</td>\n",
       "      <td>0.007940</td>\n",
       "    </tr>\n",
       "  </tbody>\n",
       "</table>\n",
       "</div>"
      ],
      "text/plain": [
       "               Feature  Importance\n",
       "2  total_pages_visited    0.617082\n",
       "1             new_user    0.187843\n",
       "6        country_China    0.067147\n",
       "0                  age    0.036476\n",
       "4        source_Direct    0.021611\n",
       "5           source_Seo    0.020376\n",
       "3           source_Ads    0.019185\n",
       "9           country_US    0.011186\n",
       "8           country_UK    0.011154\n",
       "7      country_Germany    0.007940"
      ]
     },
     "execution_count": 49,
     "metadata": {},
     "output_type": "execute_result"
    }
   ],
   "source": [
    "feature_importance=pd.DataFrame({'Feature':X_train_smote.columns,'Importance':rf.feature_importances_})\n",
    "feature_importance.sort_values(by='Importance',ascending=False)"
   ]
  },
  {
   "cell_type": "markdown",
   "id": "41b861cd-2390-4923-b47e-4ec36acc61c9",
   "metadata": {},
   "source": [
    "In random forest model, total pages visited plays a significant role. This makes sense since people are likely to do researches if they are seriously going to buy something.\n",
    "\n",
    "Also just imagine how many pages you'll have to go through before ordering anything online. That would also take into account."
   ]
  },
  {
   "cell_type": "markdown",
   "id": "55a8b2de-d2b8-4ef3-b1ac-ced46508f0a9",
   "metadata": {},
   "source": [
    "## 7. Potential Problem, conclusion and suggestions"
   ]
  },
  {
   "cell_type": "markdown",
   "id": "da4f45dc-1850-4b98-b72b-1dd71e7331de",
   "metadata": {},
   "source": [
    "### a) Potential Problems\n",
    "\n",
    "Handling imbalanced dataset with SMOTE method might create instances in noisy and overlapping area, which can generate samples that are not representative of the minority class. In order to minimize this, I used a large number of k neighbors to improve the synthetic samples.\n",
    "\n",
    "SMOTE'd models are less precise to detect true negative samples. However, it works far better in detecting true positive samples than original models.\n",
    "\n",
    "I didn't have a chance to go over how to use Tensorflow or sklearn.neural_network.MLPClassifier(), otherwise I could've plotted the training and validation loss curve to see how epoch impacts the model learning."
   ]
  },
  {
   "cell_type": "markdown",
   "id": "8063200e-6df4-48df-9d4d-cddce2f20c09",
   "metadata": {},
   "source": [
    "### b) Conclusions\n",
    "1. Younger is richer. Young users are much easier to convert\n",
    "2. Germany is where you want to start a campaign at, and avoid to start in China\n",
    "3. The more pages visited, the more likely a user will be converted"
   ]
  },
  {
   "cell_type": "markdown",
   "id": "9e6db90a-528c-4ccb-8421-70562be315b0",
   "metadata": {},
   "source": [
    "### c) Suggestions\n",
    "1. Target young audience when marketing.\n",
    "2. Target German and UK users when kicking off any campaign.\n",
    "3. Please investigate on Chinese users in terms of their low conversion rates. Is it the cultural difference? Or is it the VPN?\n",
    "4. Please also investigate the older user group. Are they not getting what they look for? Or is it just the user experience is not old-user-friendly?"
   ]
  }
 ],
 "metadata": {
  "kernelspec": {
   "display_name": "Python 3 (ipykernel)",
   "language": "python",
   "name": "python3"
  },
  "language_info": {
   "codemirror_mode": {
    "name": "ipython",
    "version": 3
   },
   "file_extension": ".py",
   "mimetype": "text/x-python",
   "name": "python",
   "nbconvert_exporter": "python",
   "pygments_lexer": "ipython3",
   "version": "3.11.4"
  },
  "widgets": {
   "application/vnd.jupyter.widget-state+json": {
    "state": {},
    "version_major": 2,
    "version_minor": 0
   }
  }
 },
 "nbformat": 4,
 "nbformat_minor": 5
}
